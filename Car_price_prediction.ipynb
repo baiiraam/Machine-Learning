{
  "nbformat": 4,
  "nbformat_minor": 0,
  "metadata": {
    "colab": {
      "provenance": [],
      "collapsed_sections": [
        "PzpeZ4_Syf_8"
      ],
      "authorship_tag": "ABX9TyOFTjHZdh166UlccdEhgpxy"
    },
    "kernelspec": {
      "name": "python3",
      "display_name": "Python 3"
    },
    "language_info": {
      "name": "python"
    }
  },
  "cells": [
    {
      "cell_type": "markdown",
      "source": [
        "# Regression task"
      ],
      "metadata": {
        "id": "Xtu9dOxbdJoX"
      }
    },
    {
      "cell_type": "markdown",
      "source": [
        "# Importing libraries"
      ],
      "metadata": {
        "id": "qqO825AQ-1Lt"
      }
    },
    {
      "cell_type": "code",
      "source": [
        "import pandas as pd\n",
        "import numpy as np\n",
        "import matplotlib.pyplot as plt"
      ],
      "metadata": {
        "id": "_GBITCu8r9xY"
      },
      "execution_count": null,
      "outputs": []
    },
    {
      "cell_type": "markdown",
      "source": [
        "random sampling"
      ],
      "metadata": {
        "id": "Z6EMaxNF6kNX"
      }
    },
    {
      "cell_type": "code",
      "execution_count": null,
      "metadata": {
        "colab": {
          "base_uri": "https://localhost:8080/"
        },
        "id": "EGkpAdsfrCzW",
        "outputId": "eec9142d-61c0-4042-d391-f2365899ead7"
      },
      "outputs": [
        {
          "output_type": "stream",
          "name": "stdout",
          "text": [
            "Warning: Looks like you're using an outdated `kagglehub` version (installed: 0.3.6), please consider upgrading to the latest version (0.3.7).\n",
            "Path to dataset files: /root/.cache/kagglehub/datasets/sehriyarmemmedli/turboaz-cars-project/versions/1\n",
            "shape: (653721, 56)\n",
            "shape after dropping duplicates on car_rel_url_x column: (154030, 56)\n",
            "last shape: (90000, 56)\n"
          ]
        }
      ],
      "source": [
        "import kagglehub\n",
        "\n",
        "# Download latest version\n",
        "path = kagglehub.dataset_download(\"sehriyarmemmedli/turboaz-cars-project\")\n",
        "\n",
        "print(\"Path to dataset files:\", path)\n",
        "\n",
        "df = pd.read_csv(path + '/cars.csv')\n",
        "\n",
        "# looking for data size\n",
        "print(f'shape: {df.shape}')\n",
        "\n",
        "# dropping duplicates (makes up a significant amount of data)\n",
        "df.drop_duplicates(subset=['car_rel_url_x'], keep='last', inplace=True)\n",
        "\n",
        "# looking at data again after duplicate removal\n",
        "print(f'shape after dropping duplicates on car_rel_url_x column: {df.shape}')\n",
        "\n",
        "# even after reducing the data size almost 4 times, it is still huge (~150_000 rows)\n",
        "# to speed up the process, it is favored to work with random sample of data, ~60%\n",
        "df = df.sample(90_000)\n",
        "\n",
        "# checking shape again\n",
        "print(f'last shape: {df.shape}')"
      ]
    },
    {
      "cell_type": "code",
      "source": [
        "# first look at data\n",
        "\n",
        "df.head()"
      ],
      "metadata": {
        "colab": {
          "base_uri": "https://localhost:8080/",
          "height": 707
        },
        "id": "b15VMSPX4WTV",
        "outputId": "d3634764-ea46-46a4-de2c-441df0d9d47d"
      },
      "execution_count": null,
      "outputs": [
        {
          "output_type": "execute_result",
          "data": {
            "text/plain": [
              "                                        id_x  \\\n",
              "346028  67485dac-3681-403a-b50d-9357e07278f2   \n",
              "299228  afc473a1-2de4-4c7b-9504-0c60c5e6e635   \n",
              "634201  fce56b00-91c5-414b-a98d-04e438d62c0d   \n",
              "497167  d9203598-6437-48a3-b3a1-fadc919dc69c   \n",
              "652266  0f0c85ac-a0d5-4cb0-85d9-b26644c2aa96   \n",
              "\n",
              "                                car_rel_url_x             datetime_scrape  \\\n",
              "346028         /autos/8664817-porsche-cayenne  2024-11-01 20:15:10.331183   \n",
              "299228  /autos/8866978-mercedes-gl-500-4matic  2024-10-26 20:15:08.783535   \n",
              "634201                 /autos/9029665-bmw-520  2025-01-01 20:15:23.101242   \n",
              "497167     /autos/8965653-toyota-land-cruiser  2024-11-22 20:15:10.892301   \n",
              "652266            /autos/8969766-lexus-gs-430  2025-01-05 20:15:21.051803   \n",
              "\n",
              "                          name  price_x currency_x    datetime_product   city  \\\n",
              "346028         Porsche Cayenne  34000.0          $   Bakı, dünən 11:45   bakı   \n",
              "299228  Mercedes GL 500 4MATIC  50000.0        AZN   Bakı, dünən 22:43   bakı   \n",
              "634201                 BMW 520  78500.0          $   Bakı, dünən 17:20   bakı   \n",
              "497167     Toyota Land Cruiser  28900.0          $  Gəncə, dünən 14:44  gəncə   \n",
              "652266            Lexus GS 430  19800.0        AZN   Bakı, dünən 11:03   bakı   \n",
              "\n",
              "               day   hour  ... Sürətlər qutusu                    Vəziyyəti  \\\n",
              "346028  01.11.2024  11:45  ...         Avtomat  Vuruğu yoxdur, rənglənməyib   \n",
              "299228  26.10.2024  22:43  ...         Avtomat  Vuruğu yoxdur, rənglənməyib   \n",
              "634201  01.01.2025  17:20  ...         Avtomat  Vuruğu yoxdur, rənglənməyib   \n",
              "497167  22.11.2024  14:44  ...         Avtomat     Vuruğu yoxdur, rənglənib   \n",
              "652266  05.01.2025  11:03  ...         Avtomat  Vuruğu yoxdur, rənglənməyib   \n",
              "\n",
              "        Yeni Yerlərin sayı       Yürüş Ötürücü  Şəhər  \\\n",
              "346028  Xeyr             5  157 000 km     Tam   Bakı   \n",
              "299228  Xeyr             7  160 000 km     Tam   Bakı   \n",
              "634201  Xeyr             5    4 000 km    Arxa   Bakı   \n",
              "497167  Xeyr             7  147 727 km     Tam  Gəncə   \n",
              "652266  Xeyr             5  223 500 km    Arxa   Bakı   \n",
              "\n",
              "                            car_details_id_y  \\\n",
              "346028  df72221e-821d-4856-8aa3-c8300d217f14   \n",
              "299228  a6af326a-f54a-4bb4-a1bc-d02daf7b00e1   \n",
              "634201  4e7f4efa-fe3b-41d8-a18f-1f01d424d097   \n",
              "497167  c5d5dfc1-4b13-4e89-bb20-9e46b027ef26   \n",
              "652266  14061453-35ef-4402-81b3-6f94cb6216de   \n",
              "\n",
              "                                  car_rel_url  \\\n",
              "346028         /autos/8664817-porsche-cayenne   \n",
              "299228  /autos/8866978-mercedes-gl-500-4matic   \n",
              "634201                 /autos/9029665-bmw-520   \n",
              "497167     /autos/8965653-toyota-land-cruiser   \n",
              "652266            /autos/8969766-lexus-gs-430   \n",
              "\n",
              "                                               extra_info  \n",
              "346028  Yüngül lehimli disklər* ABS* Lyuk* Yağış senso...  \n",
              "299228  Yüngül lehimli disklər* ABS* Lyuk* Yağış senso...  \n",
              "634201  Yüngül lehimli disklər* ABS* Lyuk* Yağış senso...  \n",
              "497167  Yüngül lehimli disklər* ABS* Lyuk* Mərkəzi qap...  \n",
              "652266  Yüngül lehimli disklər* ABS* Lyuk* Yağış senso...  \n",
              "\n",
              "[5 rows x 56 columns]"
            ],
            "text/html": [
              "\n",
              "  <div id=\"df-8c97771e-b29a-4f98-9f44-e0f316ff79a2\" class=\"colab-df-container\">\n",
              "    <div>\n",
              "<style scoped>\n",
              "    .dataframe tbody tr th:only-of-type {\n",
              "        vertical-align: middle;\n",
              "    }\n",
              "\n",
              "    .dataframe tbody tr th {\n",
              "        vertical-align: top;\n",
              "    }\n",
              "\n",
              "    .dataframe thead th {\n",
              "        text-align: right;\n",
              "    }\n",
              "</style>\n",
              "<table border=\"1\" class=\"dataframe\">\n",
              "  <thead>\n",
              "    <tr style=\"text-align: right;\">\n",
              "      <th></th>\n",
              "      <th>id_x</th>\n",
              "      <th>car_rel_url_x</th>\n",
              "      <th>datetime_scrape</th>\n",
              "      <th>name</th>\n",
              "      <th>price_x</th>\n",
              "      <th>currency_x</th>\n",
              "      <th>datetime_product</th>\n",
              "      <th>city</th>\n",
              "      <th>day</th>\n",
              "      <th>hour</th>\n",
              "      <th>...</th>\n",
              "      <th>Sürətlər qutusu</th>\n",
              "      <th>Vəziyyəti</th>\n",
              "      <th>Yeni</th>\n",
              "      <th>Yerlərin sayı</th>\n",
              "      <th>Yürüş</th>\n",
              "      <th>Ötürücü</th>\n",
              "      <th>Şəhər</th>\n",
              "      <th>car_details_id_y</th>\n",
              "      <th>car_rel_url</th>\n",
              "      <th>extra_info</th>\n",
              "    </tr>\n",
              "  </thead>\n",
              "  <tbody>\n",
              "    <tr>\n",
              "      <th>346028</th>\n",
              "      <td>67485dac-3681-403a-b50d-9357e07278f2</td>\n",
              "      <td>/autos/8664817-porsche-cayenne</td>\n",
              "      <td>2024-11-01 20:15:10.331183</td>\n",
              "      <td>Porsche Cayenne</td>\n",
              "      <td>34000.0</td>\n",
              "      <td>$</td>\n",
              "      <td>Bakı, dünən 11:45</td>\n",
              "      <td>bakı</td>\n",
              "      <td>01.11.2024</td>\n",
              "      <td>11:45</td>\n",
              "      <td>...</td>\n",
              "      <td>Avtomat</td>\n",
              "      <td>Vuruğu yoxdur, rənglənməyib</td>\n",
              "      <td>Xeyr</td>\n",
              "      <td>5</td>\n",
              "      <td>157 000 km</td>\n",
              "      <td>Tam</td>\n",
              "      <td>Bakı</td>\n",
              "      <td>df72221e-821d-4856-8aa3-c8300d217f14</td>\n",
              "      <td>/autos/8664817-porsche-cayenne</td>\n",
              "      <td>Yüngül lehimli disklər* ABS* Lyuk* Yağış senso...</td>\n",
              "    </tr>\n",
              "    <tr>\n",
              "      <th>299228</th>\n",
              "      <td>afc473a1-2de4-4c7b-9504-0c60c5e6e635</td>\n",
              "      <td>/autos/8866978-mercedes-gl-500-4matic</td>\n",
              "      <td>2024-10-26 20:15:08.783535</td>\n",
              "      <td>Mercedes GL 500 4MATIC</td>\n",
              "      <td>50000.0</td>\n",
              "      <td>AZN</td>\n",
              "      <td>Bakı, dünən 22:43</td>\n",
              "      <td>bakı</td>\n",
              "      <td>26.10.2024</td>\n",
              "      <td>22:43</td>\n",
              "      <td>...</td>\n",
              "      <td>Avtomat</td>\n",
              "      <td>Vuruğu yoxdur, rənglənməyib</td>\n",
              "      <td>Xeyr</td>\n",
              "      <td>7</td>\n",
              "      <td>160 000 km</td>\n",
              "      <td>Tam</td>\n",
              "      <td>Bakı</td>\n",
              "      <td>a6af326a-f54a-4bb4-a1bc-d02daf7b00e1</td>\n",
              "      <td>/autos/8866978-mercedes-gl-500-4matic</td>\n",
              "      <td>Yüngül lehimli disklər* ABS* Lyuk* Yağış senso...</td>\n",
              "    </tr>\n",
              "    <tr>\n",
              "      <th>634201</th>\n",
              "      <td>fce56b00-91c5-414b-a98d-04e438d62c0d</td>\n",
              "      <td>/autos/9029665-bmw-520</td>\n",
              "      <td>2025-01-01 20:15:23.101242</td>\n",
              "      <td>BMW 520</td>\n",
              "      <td>78500.0</td>\n",
              "      <td>$</td>\n",
              "      <td>Bakı, dünən 17:20</td>\n",
              "      <td>bakı</td>\n",
              "      <td>01.01.2025</td>\n",
              "      <td>17:20</td>\n",
              "      <td>...</td>\n",
              "      <td>Avtomat</td>\n",
              "      <td>Vuruğu yoxdur, rənglənməyib</td>\n",
              "      <td>Xeyr</td>\n",
              "      <td>5</td>\n",
              "      <td>4 000 km</td>\n",
              "      <td>Arxa</td>\n",
              "      <td>Bakı</td>\n",
              "      <td>4e7f4efa-fe3b-41d8-a18f-1f01d424d097</td>\n",
              "      <td>/autos/9029665-bmw-520</td>\n",
              "      <td>Yüngül lehimli disklər* ABS* Lyuk* Yağış senso...</td>\n",
              "    </tr>\n",
              "    <tr>\n",
              "      <th>497167</th>\n",
              "      <td>d9203598-6437-48a3-b3a1-fadc919dc69c</td>\n",
              "      <td>/autos/8965653-toyota-land-cruiser</td>\n",
              "      <td>2024-11-22 20:15:10.892301</td>\n",
              "      <td>Toyota Land Cruiser</td>\n",
              "      <td>28900.0</td>\n",
              "      <td>$</td>\n",
              "      <td>Gəncə, dünən 14:44</td>\n",
              "      <td>gəncə</td>\n",
              "      <td>22.11.2024</td>\n",
              "      <td>14:44</td>\n",
              "      <td>...</td>\n",
              "      <td>Avtomat</td>\n",
              "      <td>Vuruğu yoxdur, rənglənib</td>\n",
              "      <td>Xeyr</td>\n",
              "      <td>7</td>\n",
              "      <td>147 727 km</td>\n",
              "      <td>Tam</td>\n",
              "      <td>Gəncə</td>\n",
              "      <td>c5d5dfc1-4b13-4e89-bb20-9e46b027ef26</td>\n",
              "      <td>/autos/8965653-toyota-land-cruiser</td>\n",
              "      <td>Yüngül lehimli disklər* ABS* Lyuk* Mərkəzi qap...</td>\n",
              "    </tr>\n",
              "    <tr>\n",
              "      <th>652266</th>\n",
              "      <td>0f0c85ac-a0d5-4cb0-85d9-b26644c2aa96</td>\n",
              "      <td>/autos/8969766-lexus-gs-430</td>\n",
              "      <td>2025-01-05 20:15:21.051803</td>\n",
              "      <td>Lexus GS 430</td>\n",
              "      <td>19800.0</td>\n",
              "      <td>AZN</td>\n",
              "      <td>Bakı, dünən 11:03</td>\n",
              "      <td>bakı</td>\n",
              "      <td>05.01.2025</td>\n",
              "      <td>11:03</td>\n",
              "      <td>...</td>\n",
              "      <td>Avtomat</td>\n",
              "      <td>Vuruğu yoxdur, rənglənməyib</td>\n",
              "      <td>Xeyr</td>\n",
              "      <td>5</td>\n",
              "      <td>223 500 km</td>\n",
              "      <td>Arxa</td>\n",
              "      <td>Bakı</td>\n",
              "      <td>14061453-35ef-4402-81b3-6f94cb6216de</td>\n",
              "      <td>/autos/8969766-lexus-gs-430</td>\n",
              "      <td>Yüngül lehimli disklər* ABS* Lyuk* Yağış senso...</td>\n",
              "    </tr>\n",
              "  </tbody>\n",
              "</table>\n",
              "<p>5 rows × 56 columns</p>\n",
              "</div>\n",
              "    <div class=\"colab-df-buttons\">\n",
              "\n",
              "  <div class=\"colab-df-container\">\n",
              "    <button class=\"colab-df-convert\" onclick=\"convertToInteractive('df-8c97771e-b29a-4f98-9f44-e0f316ff79a2')\"\n",
              "            title=\"Convert this dataframe to an interactive table.\"\n",
              "            style=\"display:none;\">\n",
              "\n",
              "  <svg xmlns=\"http://www.w3.org/2000/svg\" height=\"24px\" viewBox=\"0 -960 960 960\">\n",
              "    <path d=\"M120-120v-720h720v720H120Zm60-500h600v-160H180v160Zm220 220h160v-160H400v160Zm0 220h160v-160H400v160ZM180-400h160v-160H180v160Zm440 0h160v-160H620v160ZM180-180h160v-160H180v160Zm440 0h160v-160H620v160Z\"/>\n",
              "  </svg>\n",
              "    </button>\n",
              "\n",
              "  <style>\n",
              "    .colab-df-container {\n",
              "      display:flex;\n",
              "      gap: 12px;\n",
              "    }\n",
              "\n",
              "    .colab-df-convert {\n",
              "      background-color: #E8F0FE;\n",
              "      border: none;\n",
              "      border-radius: 50%;\n",
              "      cursor: pointer;\n",
              "      display: none;\n",
              "      fill: #1967D2;\n",
              "      height: 32px;\n",
              "      padding: 0 0 0 0;\n",
              "      width: 32px;\n",
              "    }\n",
              "\n",
              "    .colab-df-convert:hover {\n",
              "      background-color: #E2EBFA;\n",
              "      box-shadow: 0px 1px 2px rgba(60, 64, 67, 0.3), 0px 1px 3px 1px rgba(60, 64, 67, 0.15);\n",
              "      fill: #174EA6;\n",
              "    }\n",
              "\n",
              "    .colab-df-buttons div {\n",
              "      margin-bottom: 4px;\n",
              "    }\n",
              "\n",
              "    [theme=dark] .colab-df-convert {\n",
              "      background-color: #3B4455;\n",
              "      fill: #D2E3FC;\n",
              "    }\n",
              "\n",
              "    [theme=dark] .colab-df-convert:hover {\n",
              "      background-color: #434B5C;\n",
              "      box-shadow: 0px 1px 3px 1px rgba(0, 0, 0, 0.15);\n",
              "      filter: drop-shadow(0px 1px 2px rgba(0, 0, 0, 0.3));\n",
              "      fill: #FFFFFF;\n",
              "    }\n",
              "  </style>\n",
              "\n",
              "    <script>\n",
              "      const buttonEl =\n",
              "        document.querySelector('#df-8c97771e-b29a-4f98-9f44-e0f316ff79a2 button.colab-df-convert');\n",
              "      buttonEl.style.display =\n",
              "        google.colab.kernel.accessAllowed ? 'block' : 'none';\n",
              "\n",
              "      async function convertToInteractive(key) {\n",
              "        const element = document.querySelector('#df-8c97771e-b29a-4f98-9f44-e0f316ff79a2');\n",
              "        const dataTable =\n",
              "          await google.colab.kernel.invokeFunction('convertToInteractive',\n",
              "                                                    [key], {});\n",
              "        if (!dataTable) return;\n",
              "\n",
              "        const docLinkHtml = 'Like what you see? Visit the ' +\n",
              "          '<a target=\"_blank\" href=https://colab.research.google.com/notebooks/data_table.ipynb>data table notebook</a>'\n",
              "          + ' to learn more about interactive tables.';\n",
              "        element.innerHTML = '';\n",
              "        dataTable['output_type'] = 'display_data';\n",
              "        await google.colab.output.renderOutput(dataTable, element);\n",
              "        const docLink = document.createElement('div');\n",
              "        docLink.innerHTML = docLinkHtml;\n",
              "        element.appendChild(docLink);\n",
              "      }\n",
              "    </script>\n",
              "  </div>\n",
              "\n",
              "\n",
              "<div id=\"df-af6e1ff8-60c7-42df-b825-5229eb84b9bd\">\n",
              "  <button class=\"colab-df-quickchart\" onclick=\"quickchart('df-af6e1ff8-60c7-42df-b825-5229eb84b9bd')\"\n",
              "            title=\"Suggest charts\"\n",
              "            style=\"display:none;\">\n",
              "\n",
              "<svg xmlns=\"http://www.w3.org/2000/svg\" height=\"24px\"viewBox=\"0 0 24 24\"\n",
              "     width=\"24px\">\n",
              "    <g>\n",
              "        <path d=\"M19 3H5c-1.1 0-2 .9-2 2v14c0 1.1.9 2 2 2h14c1.1 0 2-.9 2-2V5c0-1.1-.9-2-2-2zM9 17H7v-7h2v7zm4 0h-2V7h2v10zm4 0h-2v-4h2v4z\"/>\n",
              "    </g>\n",
              "</svg>\n",
              "  </button>\n",
              "\n",
              "<style>\n",
              "  .colab-df-quickchart {\n",
              "      --bg-color: #E8F0FE;\n",
              "      --fill-color: #1967D2;\n",
              "      --hover-bg-color: #E2EBFA;\n",
              "      --hover-fill-color: #174EA6;\n",
              "      --disabled-fill-color: #AAA;\n",
              "      --disabled-bg-color: #DDD;\n",
              "  }\n",
              "\n",
              "  [theme=dark] .colab-df-quickchart {\n",
              "      --bg-color: #3B4455;\n",
              "      --fill-color: #D2E3FC;\n",
              "      --hover-bg-color: #434B5C;\n",
              "      --hover-fill-color: #FFFFFF;\n",
              "      --disabled-bg-color: #3B4455;\n",
              "      --disabled-fill-color: #666;\n",
              "  }\n",
              "\n",
              "  .colab-df-quickchart {\n",
              "    background-color: var(--bg-color);\n",
              "    border: none;\n",
              "    border-radius: 50%;\n",
              "    cursor: pointer;\n",
              "    display: none;\n",
              "    fill: var(--fill-color);\n",
              "    height: 32px;\n",
              "    padding: 0;\n",
              "    width: 32px;\n",
              "  }\n",
              "\n",
              "  .colab-df-quickchart:hover {\n",
              "    background-color: var(--hover-bg-color);\n",
              "    box-shadow: 0 1px 2px rgba(60, 64, 67, 0.3), 0 1px 3px 1px rgba(60, 64, 67, 0.15);\n",
              "    fill: var(--button-hover-fill-color);\n",
              "  }\n",
              "\n",
              "  .colab-df-quickchart-complete:disabled,\n",
              "  .colab-df-quickchart-complete:disabled:hover {\n",
              "    background-color: var(--disabled-bg-color);\n",
              "    fill: var(--disabled-fill-color);\n",
              "    box-shadow: none;\n",
              "  }\n",
              "\n",
              "  .colab-df-spinner {\n",
              "    border: 2px solid var(--fill-color);\n",
              "    border-color: transparent;\n",
              "    border-bottom-color: var(--fill-color);\n",
              "    animation:\n",
              "      spin 1s steps(1) infinite;\n",
              "  }\n",
              "\n",
              "  @keyframes spin {\n",
              "    0% {\n",
              "      border-color: transparent;\n",
              "      border-bottom-color: var(--fill-color);\n",
              "      border-left-color: var(--fill-color);\n",
              "    }\n",
              "    20% {\n",
              "      border-color: transparent;\n",
              "      border-left-color: var(--fill-color);\n",
              "      border-top-color: var(--fill-color);\n",
              "    }\n",
              "    30% {\n",
              "      border-color: transparent;\n",
              "      border-left-color: var(--fill-color);\n",
              "      border-top-color: var(--fill-color);\n",
              "      border-right-color: var(--fill-color);\n",
              "    }\n",
              "    40% {\n",
              "      border-color: transparent;\n",
              "      border-right-color: var(--fill-color);\n",
              "      border-top-color: var(--fill-color);\n",
              "    }\n",
              "    60% {\n",
              "      border-color: transparent;\n",
              "      border-right-color: var(--fill-color);\n",
              "    }\n",
              "    80% {\n",
              "      border-color: transparent;\n",
              "      border-right-color: var(--fill-color);\n",
              "      border-bottom-color: var(--fill-color);\n",
              "    }\n",
              "    90% {\n",
              "      border-color: transparent;\n",
              "      border-bottom-color: var(--fill-color);\n",
              "    }\n",
              "  }\n",
              "</style>\n",
              "\n",
              "  <script>\n",
              "    async function quickchart(key) {\n",
              "      const quickchartButtonEl =\n",
              "        document.querySelector('#' + key + ' button');\n",
              "      quickchartButtonEl.disabled = true;  // To prevent multiple clicks.\n",
              "      quickchartButtonEl.classList.add('colab-df-spinner');\n",
              "      try {\n",
              "        const charts = await google.colab.kernel.invokeFunction(\n",
              "            'suggestCharts', [key], {});\n",
              "      } catch (error) {\n",
              "        console.error('Error during call to suggestCharts:', error);\n",
              "      }\n",
              "      quickchartButtonEl.classList.remove('colab-df-spinner');\n",
              "      quickchartButtonEl.classList.add('colab-df-quickchart-complete');\n",
              "    }\n",
              "    (() => {\n",
              "      let quickchartButtonEl =\n",
              "        document.querySelector('#df-af6e1ff8-60c7-42df-b825-5229eb84b9bd button');\n",
              "      quickchartButtonEl.style.display =\n",
              "        google.colab.kernel.accessAllowed ? 'block' : 'none';\n",
              "    })();\n",
              "  </script>\n",
              "</div>\n",
              "\n",
              "    </div>\n",
              "  </div>\n"
            ],
            "application/vnd.google.colaboratory.intrinsic+json": {
              "type": "dataframe",
              "variable_name": "df"
            }
          },
          "metadata": {},
          "execution_count": 3
        }
      ]
    },
    {
      "cell_type": "code",
      "source": [
        "df.info()"
      ],
      "metadata": {
        "colab": {
          "base_uri": "https://localhost:8080/"
        },
        "id": "SXRE31y4sNgo",
        "outputId": "035718ce-232d-4477-89a7-536affe73b4a"
      },
      "execution_count": null,
      "outputs": [
        {
          "output_type": "stream",
          "name": "stdout",
          "text": [
            "<class 'pandas.core.frame.DataFrame'>\n",
            "Index: 48000 entries, 346028 to 225517\n",
            "Data columns (total 56 columns):\n",
            " #   Column                    Non-Null Count  Dtype  \n",
            "---  ------                    --------------  -----  \n",
            " 0   id_x                      48000 non-null  object \n",
            " 1   car_rel_url_x             48000 non-null  object \n",
            " 2   datetime_scrape           48000 non-null  object \n",
            " 3   name                      48000 non-null  object \n",
            " 4   price_x                   48000 non-null  float64\n",
            " 5   currency_x                48000 non-null  object \n",
            " 6   datetime_product          48000 non-null  object \n",
            " 7   city                      48000 non-null  object \n",
            " 8   day                       48000 non-null  object \n",
            " 9   hour                      48000 non-null  object \n",
            " 10  attributes                48000 non-null  object \n",
            " 11  production_year           48000 non-null  int64  \n",
            " 12  engine_displacement_num   48000 non-null  float64\n",
            " 13  engine_displacement_unit  47581 non-null  object \n",
            " 14  kilometrage_num           48000 non-null  int64  \n",
            " 15  kilometrage_unit          47581 non-null  object \n",
            " 16  barter                    16537 non-null  object \n",
            " 17  loan                      11851 non-null  object \n",
            " 18  salon                     14096 non-null  object \n",
            " 19  spare_parts               121 non-null    object \n",
            " 20  vip                       21107 non-null  object \n",
            " 21  featured                  12077 non-null  object \n",
            " 22  img_url                   48000 non-null  object \n",
            " 23  id_y                      48000 non-null  object \n",
            " 24  cars_id                   48000 non-null  object \n",
            " 25  car_rel_url_y             48000 non-null  object \n",
            " 26  datetime                  48000 non-null  object \n",
            " 27  description               46860 non-null  object \n",
            " 28  price_y                   48000 non-null  float64\n",
            " 29  currency_y                48000 non-null  object \n",
            " 30  owner_name                33315 non-null  object \n",
            " 31  shop_name                 14660 non-null  object \n",
            " 32  phone                     47975 non-null  float64\n",
            " 33  updated                   48000 non-null  object \n",
            " 34  views                     48000 non-null  int64  \n",
            " 35  vin                       3204 non-null   object \n",
            " 36  car_details_id_x          48000 non-null  object \n",
            " 37  Ban növü                  48000 non-null  object \n",
            " 38  Buraxılış ili             48000 non-null  int64  \n",
            " 39  Hansı bazar üçün yığılıb  34066 non-null  object \n",
            " 40  Marka                     48000 non-null  object \n",
            " 41  Model                     48000 non-null  object \n",
            " 42  Mühərrik                  48000 non-null  object \n",
            " 43  Qəzalı                    121 non-null    object \n",
            " 44  Rəng                      48000 non-null  object \n",
            " 45  Sahiblər                  31877 non-null  object \n",
            " 46  Sürətlər qutusu           48000 non-null  object \n",
            " 47  Vəziyyəti                 48000 non-null  object \n",
            " 48  Yeni                      48000 non-null  object \n",
            " 49  Yerlərin sayı             35899 non-null  object \n",
            " 50  Yürüş                     48000 non-null  object \n",
            " 51  Ötürücü                   48000 non-null  object \n",
            " 52  Şəhər                     48000 non-null  object \n",
            " 53  car_details_id_y          48000 non-null  object \n",
            " 54  car_rel_url               48000 non-null  object \n",
            " 55  extra_info                48000 non-null  object \n",
            "dtypes: float64(4), int64(4), object(48)\n",
            "memory usage: 20.9+ MB\n"
          ]
        }
      ]
    },
    {
      "cell_type": "code",
      "source": [
        "# checking for null values\n",
        "\n",
        "df.isna().sum().sort_values(ascending=False)"
      ],
      "metadata": {
        "colab": {
          "base_uri": "https://localhost:8080/",
          "height": 1000
        },
        "id": "1zH1N8yGsRNv",
        "outputId": "7531c8e2-c698-4a87-be82-c95775af2621"
      },
      "execution_count": null,
      "outputs": [
        {
          "output_type": "execute_result",
          "data": {
            "text/plain": [
              "Qəzalı                      47879\n",
              "spare_parts                 47879\n",
              "vin                         44796\n",
              "loan                        36149\n",
              "featured                    35923\n",
              "salon                       33904\n",
              "shop_name                   33340\n",
              "barter                      31463\n",
              "vip                         26893\n",
              "Sahiblər                    16123\n",
              "owner_name                  14685\n",
              "Hansı bazar üçün yığılıb    13934\n",
              "Yerlərin sayı               12101\n",
              "description                  1140\n",
              "engine_displacement_unit      419\n",
              "kilometrage_unit              419\n",
              "phone                          25\n",
              "Şəhər                           0\n",
              "Buraxılış ili                   0\n",
              "Model                           0\n",
              "Ban növü                        0\n",
              "car_details_id_x                0\n",
              "Marka                           0\n",
              "car_rel_url                     0\n",
              "Mühərrik                        0\n",
              "Ötürücü                         0\n",
              "views                           0\n",
              "car_details_id_y                0\n",
              "Rəng                            0\n",
              "Sürətlər qutusu                 0\n",
              "Vəziyyəti                       0\n",
              "Yeni                            0\n",
              "Yürüş                           0\n",
              "id_x                            0\n",
              "price_y                         0\n",
              "updated                         0\n",
              "attributes                      0\n",
              "datetime_scrape                 0\n",
              "name                            0\n",
              "price_x                         0\n",
              "currency_x                      0\n",
              "datetime_product                0\n",
              "city                            0\n",
              "day                             0\n",
              "hour                            0\n",
              "production_year                 0\n",
              "currency_y                      0\n",
              "engine_displacement_num         0\n",
              "kilometrage_num                 0\n",
              "img_url                         0\n",
              "id_y                            0\n",
              "cars_id                         0\n",
              "car_rel_url_y                   0\n",
              "datetime                        0\n",
              "car_rel_url_x                   0\n",
              "extra_info                      0\n",
              "dtype: int64"
            ],
            "text/html": [
              "<div>\n",
              "<style scoped>\n",
              "    .dataframe tbody tr th:only-of-type {\n",
              "        vertical-align: middle;\n",
              "    }\n",
              "\n",
              "    .dataframe tbody tr th {\n",
              "        vertical-align: top;\n",
              "    }\n",
              "\n",
              "    .dataframe thead th {\n",
              "        text-align: right;\n",
              "    }\n",
              "</style>\n",
              "<table border=\"1\" class=\"dataframe\">\n",
              "  <thead>\n",
              "    <tr style=\"text-align: right;\">\n",
              "      <th></th>\n",
              "      <th>0</th>\n",
              "    </tr>\n",
              "  </thead>\n",
              "  <tbody>\n",
              "    <tr>\n",
              "      <th>Qəzalı</th>\n",
              "      <td>47879</td>\n",
              "    </tr>\n",
              "    <tr>\n",
              "      <th>spare_parts</th>\n",
              "      <td>47879</td>\n",
              "    </tr>\n",
              "    <tr>\n",
              "      <th>vin</th>\n",
              "      <td>44796</td>\n",
              "    </tr>\n",
              "    <tr>\n",
              "      <th>loan</th>\n",
              "      <td>36149</td>\n",
              "    </tr>\n",
              "    <tr>\n",
              "      <th>featured</th>\n",
              "      <td>35923</td>\n",
              "    </tr>\n",
              "    <tr>\n",
              "      <th>salon</th>\n",
              "      <td>33904</td>\n",
              "    </tr>\n",
              "    <tr>\n",
              "      <th>shop_name</th>\n",
              "      <td>33340</td>\n",
              "    </tr>\n",
              "    <tr>\n",
              "      <th>barter</th>\n",
              "      <td>31463</td>\n",
              "    </tr>\n",
              "    <tr>\n",
              "      <th>vip</th>\n",
              "      <td>26893</td>\n",
              "    </tr>\n",
              "    <tr>\n",
              "      <th>Sahiblər</th>\n",
              "      <td>16123</td>\n",
              "    </tr>\n",
              "    <tr>\n",
              "      <th>owner_name</th>\n",
              "      <td>14685</td>\n",
              "    </tr>\n",
              "    <tr>\n",
              "      <th>Hansı bazar üçün yığılıb</th>\n",
              "      <td>13934</td>\n",
              "    </tr>\n",
              "    <tr>\n",
              "      <th>Yerlərin sayı</th>\n",
              "      <td>12101</td>\n",
              "    </tr>\n",
              "    <tr>\n",
              "      <th>description</th>\n",
              "      <td>1140</td>\n",
              "    </tr>\n",
              "    <tr>\n",
              "      <th>engine_displacement_unit</th>\n",
              "      <td>419</td>\n",
              "    </tr>\n",
              "    <tr>\n",
              "      <th>kilometrage_unit</th>\n",
              "      <td>419</td>\n",
              "    </tr>\n",
              "    <tr>\n",
              "      <th>phone</th>\n",
              "      <td>25</td>\n",
              "    </tr>\n",
              "    <tr>\n",
              "      <th>Şəhər</th>\n",
              "      <td>0</td>\n",
              "    </tr>\n",
              "    <tr>\n",
              "      <th>Buraxılış ili</th>\n",
              "      <td>0</td>\n",
              "    </tr>\n",
              "    <tr>\n",
              "      <th>Model</th>\n",
              "      <td>0</td>\n",
              "    </tr>\n",
              "    <tr>\n",
              "      <th>Ban növü</th>\n",
              "      <td>0</td>\n",
              "    </tr>\n",
              "    <tr>\n",
              "      <th>car_details_id_x</th>\n",
              "      <td>0</td>\n",
              "    </tr>\n",
              "    <tr>\n",
              "      <th>Marka</th>\n",
              "      <td>0</td>\n",
              "    </tr>\n",
              "    <tr>\n",
              "      <th>car_rel_url</th>\n",
              "      <td>0</td>\n",
              "    </tr>\n",
              "    <tr>\n",
              "      <th>Mühərrik</th>\n",
              "      <td>0</td>\n",
              "    </tr>\n",
              "    <tr>\n",
              "      <th>Ötürücü</th>\n",
              "      <td>0</td>\n",
              "    </tr>\n",
              "    <tr>\n",
              "      <th>views</th>\n",
              "      <td>0</td>\n",
              "    </tr>\n",
              "    <tr>\n",
              "      <th>car_details_id_y</th>\n",
              "      <td>0</td>\n",
              "    </tr>\n",
              "    <tr>\n",
              "      <th>Rəng</th>\n",
              "      <td>0</td>\n",
              "    </tr>\n",
              "    <tr>\n",
              "      <th>Sürətlər qutusu</th>\n",
              "      <td>0</td>\n",
              "    </tr>\n",
              "    <tr>\n",
              "      <th>Vəziyyəti</th>\n",
              "      <td>0</td>\n",
              "    </tr>\n",
              "    <tr>\n",
              "      <th>Yeni</th>\n",
              "      <td>0</td>\n",
              "    </tr>\n",
              "    <tr>\n",
              "      <th>Yürüş</th>\n",
              "      <td>0</td>\n",
              "    </tr>\n",
              "    <tr>\n",
              "      <th>id_x</th>\n",
              "      <td>0</td>\n",
              "    </tr>\n",
              "    <tr>\n",
              "      <th>price_y</th>\n",
              "      <td>0</td>\n",
              "    </tr>\n",
              "    <tr>\n",
              "      <th>updated</th>\n",
              "      <td>0</td>\n",
              "    </tr>\n",
              "    <tr>\n",
              "      <th>attributes</th>\n",
              "      <td>0</td>\n",
              "    </tr>\n",
              "    <tr>\n",
              "      <th>datetime_scrape</th>\n",
              "      <td>0</td>\n",
              "    </tr>\n",
              "    <tr>\n",
              "      <th>name</th>\n",
              "      <td>0</td>\n",
              "    </tr>\n",
              "    <tr>\n",
              "      <th>price_x</th>\n",
              "      <td>0</td>\n",
              "    </tr>\n",
              "    <tr>\n",
              "      <th>currency_x</th>\n",
              "      <td>0</td>\n",
              "    </tr>\n",
              "    <tr>\n",
              "      <th>datetime_product</th>\n",
              "      <td>0</td>\n",
              "    </tr>\n",
              "    <tr>\n",
              "      <th>city</th>\n",
              "      <td>0</td>\n",
              "    </tr>\n",
              "    <tr>\n",
              "      <th>day</th>\n",
              "      <td>0</td>\n",
              "    </tr>\n",
              "    <tr>\n",
              "      <th>hour</th>\n",
              "      <td>0</td>\n",
              "    </tr>\n",
              "    <tr>\n",
              "      <th>production_year</th>\n",
              "      <td>0</td>\n",
              "    </tr>\n",
              "    <tr>\n",
              "      <th>currency_y</th>\n",
              "      <td>0</td>\n",
              "    </tr>\n",
              "    <tr>\n",
              "      <th>engine_displacement_num</th>\n",
              "      <td>0</td>\n",
              "    </tr>\n",
              "    <tr>\n",
              "      <th>kilometrage_num</th>\n",
              "      <td>0</td>\n",
              "    </tr>\n",
              "    <tr>\n",
              "      <th>img_url</th>\n",
              "      <td>0</td>\n",
              "    </tr>\n",
              "    <tr>\n",
              "      <th>id_y</th>\n",
              "      <td>0</td>\n",
              "    </tr>\n",
              "    <tr>\n",
              "      <th>cars_id</th>\n",
              "      <td>0</td>\n",
              "    </tr>\n",
              "    <tr>\n",
              "      <th>car_rel_url_y</th>\n",
              "      <td>0</td>\n",
              "    </tr>\n",
              "    <tr>\n",
              "      <th>datetime</th>\n",
              "      <td>0</td>\n",
              "    </tr>\n",
              "    <tr>\n",
              "      <th>car_rel_url_x</th>\n",
              "      <td>0</td>\n",
              "    </tr>\n",
              "    <tr>\n",
              "      <th>extra_info</th>\n",
              "      <td>0</td>\n",
              "    </tr>\n",
              "  </tbody>\n",
              "</table>\n",
              "</div><br><label><b>dtype:</b> int64</label>"
            ]
          },
          "metadata": {},
          "execution_count": 5
        }
      ]
    },
    {
      "cell_type": "markdown",
      "source": [
        "# Visualization"
      ],
      "metadata": {
        "id": "PzpeZ4_Syf_8"
      }
    },
    {
      "cell_type": "markdown",
      "source": [
        "Visualization of data is important to know how the data is missing. By knowing the missing pattern of data, we can use it to our advantage, especially in data cleaning part by filling NaN values. There are several types of null values, such as missing at random `(MAR)`, not missing at random `(NMAR)`, and completely missing at random `(CMAR)`."
      ],
      "metadata": {
        "id": "ZS5yfLI14q2D"
      }
    },
    {
      "cell_type": "code",
      "source": [
        "# in this case, data is missing because instead of giving an input of 'Yox', people simply ignored this column, meaning that\n",
        "# null values in this case represent 'Yox'\n",
        "\n",
        "plt.subplot(121)\n",
        "df['Qəzalı'].value_counts(dropna=False).plot.bar()\n",
        "plt.xticks(rotation=0)\n",
        "plt.title('with NaN values')\n",
        "plt.legend()\n",
        "\n",
        "\n",
        "plt.subplot(122)\n",
        "df['Qəzalı'].fillna(value='yox').value_counts().plot.bar()\n",
        "plt.xticks(rotation=0)\n",
        "plt.title('filled NaN values')\n",
        "plt.legend()\n",
        "\n",
        "\n",
        "plt.subplots_adjust(wspace=0.5, hspace=0.5)\n",
        "plt.show()\n",
        "\n",
        "\n"
      ],
      "metadata": {
        "colab": {
          "base_uri": "https://localhost:8080/"
        },
        "id": "4zH6wRwNIf-4",
        "outputId": "93c7b76d-7755-45af-a0f8-078bc22bbc91"
      },
      "execution_count": null,
      "outputs": [
        {
          "output_type": "display_data",
          "data": {
            "text/plain": [
              "<Figure size 640x480 with 2 Axes>"
            ],
            "image/png": "[encoded data removed]"
          },
          "metadata": {}
        }
      ]
    },
    {
      "cell_type": "code",
      "source": [
        "# in this case, null values represent 'Kreditde deyil', not loan.\n",
        "\n",
        "df['loan'].value_counts(dropna=False).plot.bar()\n",
        "\n",
        "plt.show()"
      ],
      "metadata": {
        "colab": {
          "base_uri": "https://localhost:8080/"
        },
        "id": "kQgQJ7QiI7zH",
        "outputId": "82d6b5ee-625b-49bc-db1f-6819221e2b4c"
      },
      "execution_count": null,
      "outputs": [
        {
          "output_type": "display_data",
          "data": {
            "text/plain": [
              "<Figure size 640x480 with 1 Axes>"
            ],
            "image/png": "[encoded data removed]"
          },
          "metadata": {}
        }
      ]
    },
    {
      "cell_type": "code",
      "source": [
        "# null values represent 'not salon'\n",
        "\n",
        "df['salon'].value_counts(dropna=False).plot.bar(rot=0)\n",
        "\n",
        "plt.show()"
      ],
      "metadata": {
        "colab": {
          "base_uri": "https://localhost:8080/"
        },
        "id": "ULo_laReJCMA",
        "outputId": "a5d49d1b-9fcc-40e5-e524-15454de8b90f"
      },
      "execution_count": null,
      "outputs": [
        {
          "output_type": "display_data",
          "data": {
            "text/plain": [
              "<Figure size 640x480 with 1 Axes>"
            ],
            "image/png": "[encoded data removed]"
          },
          "metadata": {}
        }
      ]
    },
    {
      "cell_type": "code",
      "source": [
        "df['shop_name'].value_counts(dropna=False).sort_values(ascending=False)"
      ],
      "metadata": {
        "colab": {
          "base_uri": "https://localhost:8080/",
          "height": 490
        },
        "id": "F9owA8jYJIJu",
        "outputId": "40c0204a-5d33-4731-8ff1-2007976b3ca1"
      },
      "execution_count": null,
      "outputs": [
        {
          "output_type": "execute_result",
          "data": {
            "text/plain": [
              "shop_name\n",
              "NaN                           453761\n",
              "AvtoExpress Baku                7322\n",
              "Lənkəran Avtomobil Mərkəzi      3991\n",
              "Qoca Cars                       2858\n",
              "AutoFamily                      2633\n",
              "                               ...  \n",
              "China Motors Azerbaijan            4\n",
              "MINI Azərbaycan                    2\n",
              "094 Cars                           2\n",
              "Lexus Bakı Mərkəzi                 1\n",
              "Porsche Bakı Mərkəzi               1\n",
              "Name: count, Length: 317, dtype: int64"
            ],
            "text/html": [
              "<div>\n",
              "<style scoped>\n",
              "    .dataframe tbody tr th:only-of-type {\n",
              "        vertical-align: middle;\n",
              "    }\n",
              "\n",
              "    .dataframe tbody tr th {\n",
              "        vertical-align: top;\n",
              "    }\n",
              "\n",
              "    .dataframe thead th {\n",
              "        text-align: right;\n",
              "    }\n",
              "</style>\n",
              "<table border=\"1\" class=\"dataframe\">\n",
              "  <thead>\n",
              "    <tr style=\"text-align: right;\">\n",
              "      <th></th>\n",
              "      <th>count</th>\n",
              "    </tr>\n",
              "    <tr>\n",
              "      <th>shop_name</th>\n",
              "      <th></th>\n",
              "    </tr>\n",
              "  </thead>\n",
              "  <tbody>\n",
              "    <tr>\n",
              "      <th>NaN</th>\n",
              "      <td>453761</td>\n",
              "    </tr>\n",
              "    <tr>\n",
              "      <th>AvtoExpress Baku</th>\n",
              "      <td>7322</td>\n",
              "    </tr>\n",
              "    <tr>\n",
              "      <th>Lənkəran Avtomobil Mərkəzi</th>\n",
              "      <td>3991</td>\n",
              "    </tr>\n",
              "    <tr>\n",
              "      <th>Qoca Cars</th>\n",
              "      <td>2858</td>\n",
              "    </tr>\n",
              "    <tr>\n",
              "      <th>AutoFamily</th>\n",
              "      <td>2633</td>\n",
              "    </tr>\n",
              "    <tr>\n",
              "      <th>...</th>\n",
              "      <td>...</td>\n",
              "    </tr>\n",
              "    <tr>\n",
              "      <th>China Motors Azerbaijan</th>\n",
              "      <td>4</td>\n",
              "    </tr>\n",
              "    <tr>\n",
              "      <th>MINI Azərbaycan</th>\n",
              "      <td>2</td>\n",
              "    </tr>\n",
              "    <tr>\n",
              "      <th>094 Cars</th>\n",
              "      <td>2</td>\n",
              "    </tr>\n",
              "    <tr>\n",
              "      <th>Lexus Bakı Mərkəzi</th>\n",
              "      <td>1</td>\n",
              "    </tr>\n",
              "    <tr>\n",
              "      <th>Porsche Bakı Mərkəzi</th>\n",
              "      <td>1</td>\n",
              "    </tr>\n",
              "  </tbody>\n",
              "</table>\n",
              "<p>317 rows × 1 columns</p>\n",
              "</div><br><label><b>dtype:</b> int64</label>"
            ]
          },
          "metadata": {},
          "execution_count": 140
        }
      ]
    },
    {
      "cell_type": "code",
      "source": [
        "df['Sahiblər'].value_counts(dropna=False)"
      ],
      "metadata": {
        "colab": {
          "base_uri": "https://localhost:8080/",
          "height": 304
        },
        "id": "tDxDYMk6JNmL",
        "outputId": "0da10d7d-f41f-44c4-96c7-5ad5cf363051"
      },
      "execution_count": null,
      "outputs": [
        {
          "output_type": "execute_result",
          "data": {
            "text/plain": [
              "Sahiblər\n",
              "NaN              221621\n",
              "1                207016\n",
              "2                128779\n",
              "0                 75150\n",
              "3                 17966\n",
              "4 və daha çox      3189\n",
              "Name: count, dtype: int64"
            ],
            "text/html": [
              "<div>\n",
              "<style scoped>\n",
              "    .dataframe tbody tr th:only-of-type {\n",
              "        vertical-align: middle;\n",
              "    }\n",
              "\n",
              "    .dataframe tbody tr th {\n",
              "        vertical-align: top;\n",
              "    }\n",
              "\n",
              "    .dataframe thead th {\n",
              "        text-align: right;\n",
              "    }\n",
              "</style>\n",
              "<table border=\"1\" class=\"dataframe\">\n",
              "  <thead>\n",
              "    <tr style=\"text-align: right;\">\n",
              "      <th></th>\n",
              "      <th>count</th>\n",
              "    </tr>\n",
              "    <tr>\n",
              "      <th>Sahiblər</th>\n",
              "      <th></th>\n",
              "    </tr>\n",
              "  </thead>\n",
              "  <tbody>\n",
              "    <tr>\n",
              "      <th>NaN</th>\n",
              "      <td>221621</td>\n",
              "    </tr>\n",
              "    <tr>\n",
              "      <th>1</th>\n",
              "      <td>207016</td>\n",
              "    </tr>\n",
              "    <tr>\n",
              "      <th>2</th>\n",
              "      <td>128779</td>\n",
              "    </tr>\n",
              "    <tr>\n",
              "      <th>0</th>\n",
              "      <td>75150</td>\n",
              "    </tr>\n",
              "    <tr>\n",
              "      <th>3</th>\n",
              "      <td>17966</td>\n",
              "    </tr>\n",
              "    <tr>\n",
              "      <th>4 və daha çox</th>\n",
              "      <td>3189</td>\n",
              "    </tr>\n",
              "  </tbody>\n",
              "</table>\n",
              "</div><br><label><b>dtype:</b> int64</label>"
            ]
          },
          "metadata": {},
          "execution_count": 141
        }
      ]
    },
    {
      "cell_type": "code",
      "source": [
        "df['Hansı bazar üçün yığılıb'].value_counts(dropna=False).sort_values(ascending=False)"
      ],
      "metadata": {
        "colab": {
          "base_uri": "https://localhost:8080/",
          "height": 429
        },
        "id": "aH-h9iJQLON0",
        "outputId": "b6caa3ca-0ab3-4840-f324-673870132069"
      },
      "execution_count": null,
      "outputs": [
        {
          "output_type": "execute_result",
          "data": {
            "text/plain": [
              "Hansı bazar üçün yığılıb\n",
              "NaN            189505\n",
              "Rəsmi diler    118333\n",
              "Avropa         105315\n",
              "Amerika        103217\n",
              "Koreya          61449\n",
              "Yaponiya        19123\n",
              "Çin             18496\n",
              "Digər           18148\n",
              "Rusiya          14496\n",
              "Dubay            5639\n",
              "Name: count, dtype: int64"
            ],
            "text/html": [
              "<div>\n",
              "<style scoped>\n",
              "    .dataframe tbody tr th:only-of-type {\n",
              "        vertical-align: middle;\n",
              "    }\n",
              "\n",
              "    .dataframe tbody tr th {\n",
              "        vertical-align: top;\n",
              "    }\n",
              "\n",
              "    .dataframe thead th {\n",
              "        text-align: right;\n",
              "    }\n",
              "</style>\n",
              "<table border=\"1\" class=\"dataframe\">\n",
              "  <thead>\n",
              "    <tr style=\"text-align: right;\">\n",
              "      <th></th>\n",
              "      <th>count</th>\n",
              "    </tr>\n",
              "    <tr>\n",
              "      <th>Hansı bazar üçün yığılıb</th>\n",
              "      <th></th>\n",
              "    </tr>\n",
              "  </thead>\n",
              "  <tbody>\n",
              "    <tr>\n",
              "      <th>NaN</th>\n",
              "      <td>189505</td>\n",
              "    </tr>\n",
              "    <tr>\n",
              "      <th>Rəsmi diler</th>\n",
              "      <td>118333</td>\n",
              "    </tr>\n",
              "    <tr>\n",
              "      <th>Avropa</th>\n",
              "      <td>105315</td>\n",
              "    </tr>\n",
              "    <tr>\n",
              "      <th>Amerika</th>\n",
              "      <td>103217</td>\n",
              "    </tr>\n",
              "    <tr>\n",
              "      <th>Koreya</th>\n",
              "      <td>61449</td>\n",
              "    </tr>\n",
              "    <tr>\n",
              "      <th>Yaponiya</th>\n",
              "      <td>19123</td>\n",
              "    </tr>\n",
              "    <tr>\n",
              "      <th>Çin</th>\n",
              "      <td>18496</td>\n",
              "    </tr>\n",
              "    <tr>\n",
              "      <th>Digər</th>\n",
              "      <td>18148</td>\n",
              "    </tr>\n",
              "    <tr>\n",
              "      <th>Rusiya</th>\n",
              "      <td>14496</td>\n",
              "    </tr>\n",
              "    <tr>\n",
              "      <th>Dubay</th>\n",
              "      <td>5639</td>\n",
              "    </tr>\n",
              "  </tbody>\n",
              "</table>\n",
              "</div><br><label><b>dtype:</b> int64</label>"
            ]
          },
          "metadata": {},
          "execution_count": 143
        }
      ]
    },
    {
      "cell_type": "code",
      "source": [
        "df['Yerlərin sayı'].value_counts(dropna=False).sort_values(ascending=False)\\\n",
        ".plot.bar(grid=True, figsize=(12, 6), xlabel='Yerlərin sayı',\n",
        "          style='plotly',rot=0, fontsize=12,\n",
        "          title='count of Yerlərin sayı',\n",
        "          legend=True)"
      ],
      "metadata": {
        "colab": {
          "base_uri": "https://localhost:8080/"
        },
        "id": "HIrROXZHLaMk",
        "outputId": "e41cf07a-2752-4786-ceec-1c5670de94e1"
      },
      "execution_count": null,
      "outputs": [
        {
          "output_type": "execute_result",
          "data": {
            "text/plain": [
              "<Axes: title={'center': 'count of Yerlərin sayı'}, xlabel='Yerlərin sayı'>"
            ]
          },
          "metadata": {},
          "execution_count": 74
        },
        {
          "output_type": "display_data",
          "data": {
            "text/plain": [
              "<Figure size 1200x600 with 1 Axes>"
            ],
            "image/png": "[encoded data removed]"
          },
          "metadata": {}
        }
      ]
    },
    {
      "cell_type": "code",
      "source": [
        "df['engine_displacement_unit'].value_counts(dropna=False).sort_values(ascending=False)"
      ],
      "metadata": {
        "colab": {
          "base_uri": "https://localhost:8080/",
          "height": 178
        },
        "id": "B0oPfHDYLahQ",
        "outputId": "461e20df-a612-491a-fac5-46acc8153c84"
      },
      "execution_count": null,
      "outputs": [
        {
          "output_type": "execute_result",
          "data": {
            "text/plain": [
              "engine_displacement_unit\n",
              "L      647933\n",
              "NaN      5788\n",
              "Name: count, dtype: int64"
            ],
            "text/html": [
              "<div>\n",
              "<style scoped>\n",
              "    .dataframe tbody tr th:only-of-type {\n",
              "        vertical-align: middle;\n",
              "    }\n",
              "\n",
              "    .dataframe tbody tr th {\n",
              "        vertical-align: top;\n",
              "    }\n",
              "\n",
              "    .dataframe thead th {\n",
              "        text-align: right;\n",
              "    }\n",
              "</style>\n",
              "<table border=\"1\" class=\"dataframe\">\n",
              "  <thead>\n",
              "    <tr style=\"text-align: right;\">\n",
              "      <th></th>\n",
              "      <th>count</th>\n",
              "    </tr>\n",
              "    <tr>\n",
              "      <th>engine_displacement_unit</th>\n",
              "      <th></th>\n",
              "    </tr>\n",
              "  </thead>\n",
              "  <tbody>\n",
              "    <tr>\n",
              "      <th>L</th>\n",
              "      <td>647933</td>\n",
              "    </tr>\n",
              "    <tr>\n",
              "      <th>NaN</th>\n",
              "      <td>5788</td>\n",
              "    </tr>\n",
              "  </tbody>\n",
              "</table>\n",
              "</div><br><label><b>dtype:</b> int64</label>"
            ]
          },
          "metadata": {},
          "execution_count": 145
        }
      ]
    },
    {
      "cell_type": "code",
      "source": [
        "df['kilometrage_unit'].value_counts(dropna=False).sort_values(ascending=False)"
      ],
      "metadata": {
        "colab": {
          "base_uri": "https://localhost:8080/",
          "height": 178
        },
        "id": "IUmlM3XCLam9",
        "outputId": "1e3b0d48-b5f1-4d86-9d43-5338acf335b2"
      },
      "execution_count": null,
      "outputs": [
        {
          "output_type": "execute_result",
          "data": {
            "text/plain": [
              "kilometrage_unit\n",
              "km     647933\n",
              "NaN      5788\n",
              "Name: count, dtype: int64"
            ],
            "text/html": [
              "<div>\n",
              "<style scoped>\n",
              "    .dataframe tbody tr th:only-of-type {\n",
              "        vertical-align: middle;\n",
              "    }\n",
              "\n",
              "    .dataframe tbody tr th {\n",
              "        vertical-align: top;\n",
              "    }\n",
              "\n",
              "    .dataframe thead th {\n",
              "        text-align: right;\n",
              "    }\n",
              "</style>\n",
              "<table border=\"1\" class=\"dataframe\">\n",
              "  <thead>\n",
              "    <tr style=\"text-align: right;\">\n",
              "      <th></th>\n",
              "      <th>count</th>\n",
              "    </tr>\n",
              "    <tr>\n",
              "      <th>kilometrage_unit</th>\n",
              "      <th></th>\n",
              "    </tr>\n",
              "  </thead>\n",
              "  <tbody>\n",
              "    <tr>\n",
              "      <th>km</th>\n",
              "      <td>647933</td>\n",
              "    </tr>\n",
              "    <tr>\n",
              "      <th>NaN</th>\n",
              "      <td>5788</td>\n",
              "    </tr>\n",
              "  </tbody>\n",
              "</table>\n",
              "</div><br><label><b>dtype:</b> int64</label>"
            ]
          },
          "metadata": {},
          "execution_count": 146
        }
      ]
    },
    {
      "cell_type": "code",
      "source": [
        "df['Vəziyyəti'].value_counts(dropna=False).sort_values(ascending=False)"
      ],
      "metadata": {
        "colab": {
          "base_uri": "https://localhost:8080/",
          "height": 272
        },
        "id": "qdJEVUIzLav8",
        "outputId": "5ba50ebb-54ca-4418-ed2f-a685277a9787"
      },
      "execution_count": null,
      "outputs": [
        {
          "output_type": "execute_result",
          "data": {
            "text/plain": [
              "Vəziyyəti\n",
              "Vuruğu yoxdur, rənglənməyib    615492\n",
              "Vuruğu yoxdur, rənglənib        31768\n",
              "Vuruğu var, rənglənib            3586\n",
              "Vuruğu var, rənglənməyib         2872\n",
              "NaN                                 3\n",
              "Name: count, dtype: int64"
            ],
            "text/html": [
              "<div>\n",
              "<style scoped>\n",
              "    .dataframe tbody tr th:only-of-type {\n",
              "        vertical-align: middle;\n",
              "    }\n",
              "\n",
              "    .dataframe tbody tr th {\n",
              "        vertical-align: top;\n",
              "    }\n",
              "\n",
              "    .dataframe thead th {\n",
              "        text-align: right;\n",
              "    }\n",
              "</style>\n",
              "<table border=\"1\" class=\"dataframe\">\n",
              "  <thead>\n",
              "    <tr style=\"text-align: right;\">\n",
              "      <th></th>\n",
              "      <th>count</th>\n",
              "    </tr>\n",
              "    <tr>\n",
              "      <th>Vəziyyəti</th>\n",
              "      <th></th>\n",
              "    </tr>\n",
              "  </thead>\n",
              "  <tbody>\n",
              "    <tr>\n",
              "      <th>Vuruğu yoxdur, rənglənməyib</th>\n",
              "      <td>615492</td>\n",
              "    </tr>\n",
              "    <tr>\n",
              "      <th>Vuruğu yoxdur, rənglənib</th>\n",
              "      <td>31768</td>\n",
              "    </tr>\n",
              "    <tr>\n",
              "      <th>Vuruğu var, rənglənib</th>\n",
              "      <td>3586</td>\n",
              "    </tr>\n",
              "    <tr>\n",
              "      <th>Vuruğu var, rənglənməyib</th>\n",
              "      <td>2872</td>\n",
              "    </tr>\n",
              "    <tr>\n",
              "      <th>NaN</th>\n",
              "      <td>3</td>\n",
              "    </tr>\n",
              "  </tbody>\n",
              "</table>\n",
              "</div><br><label><b>dtype:</b> int64</label>"
            ]
          },
          "metadata": {},
          "execution_count": 148
        }
      ]
    },
    {
      "cell_type": "code",
      "source": [
        "df['Model'].value_counts(dropna=False).sort_values(ascending=False)"
      ],
      "metadata": {
        "colab": {
          "base_uri": "https://localhost:8080/",
          "height": 490
        },
        "id": "nQAoJuNkLazj",
        "outputId": "48c2b3fa-8321-487f-88b2-0d39a2703da1"
      },
      "execution_count": null,
      "outputs": [
        {
          "output_type": "execute_result",
          "data": {
            "text/plain": [
              "Model\n",
              "Sorento        23185\n",
              "Elantra        19004\n",
              "Santa Fe       17858\n",
              "Range Rover    16857\n",
              "Sonata         16042\n",
              "               ...  \n",
              "GSX-R 600          1\n",
              "K9                 1\n",
              "3577               1\n",
              "Aya                1\n",
              "TGA 26.320         1\n",
              "Name: count, Length: 2452, dtype: int64"
            ],
            "text/html": [
              "<div>\n",
              "<style scoped>\n",
              "    .dataframe tbody tr th:only-of-type {\n",
              "        vertical-align: middle;\n",
              "    }\n",
              "\n",
              "    .dataframe tbody tr th {\n",
              "        vertical-align: top;\n",
              "    }\n",
              "\n",
              "    .dataframe thead th {\n",
              "        text-align: right;\n",
              "    }\n",
              "</style>\n",
              "<table border=\"1\" class=\"dataframe\">\n",
              "  <thead>\n",
              "    <tr style=\"text-align: right;\">\n",
              "      <th></th>\n",
              "      <th>count</th>\n",
              "    </tr>\n",
              "    <tr>\n",
              "      <th>Model</th>\n",
              "      <th></th>\n",
              "    </tr>\n",
              "  </thead>\n",
              "  <tbody>\n",
              "    <tr>\n",
              "      <th>Sorento</th>\n",
              "      <td>23185</td>\n",
              "    </tr>\n",
              "    <tr>\n",
              "      <th>Elantra</th>\n",
              "      <td>19004</td>\n",
              "    </tr>\n",
              "    <tr>\n",
              "      <th>Santa Fe</th>\n",
              "      <td>17858</td>\n",
              "    </tr>\n",
              "    <tr>\n",
              "      <th>Range Rover</th>\n",
              "      <td>16857</td>\n",
              "    </tr>\n",
              "    <tr>\n",
              "      <th>Sonata</th>\n",
              "      <td>16042</td>\n",
              "    </tr>\n",
              "    <tr>\n",
              "      <th>...</th>\n",
              "      <td>...</td>\n",
              "    </tr>\n",
              "    <tr>\n",
              "      <th>GSX-R 600</th>\n",
              "      <td>1</td>\n",
              "    </tr>\n",
              "    <tr>\n",
              "      <th>K9</th>\n",
              "      <td>1</td>\n",
              "    </tr>\n",
              "    <tr>\n",
              "      <th>3577</th>\n",
              "      <td>1</td>\n",
              "    </tr>\n",
              "    <tr>\n",
              "      <th>Aya</th>\n",
              "      <td>1</td>\n",
              "    </tr>\n",
              "    <tr>\n",
              "      <th>TGA 26.320</th>\n",
              "      <td>1</td>\n",
              "    </tr>\n",
              "  </tbody>\n",
              "</table>\n",
              "<p>2452 rows × 1 columns</p>\n",
              "</div><br><label><b>dtype:</b> int64</label>"
            ]
          },
          "metadata": {},
          "execution_count": 149
        }
      ]
    },
    {
      "cell_type": "code",
      "source": [
        "df['Şəhər'].value_counts(dropna=False).sort_values(ascending=False)"
      ],
      "metadata": {
        "colab": {
          "base_uri": "https://localhost:8080/",
          "height": 490
        },
        "id": "wCLQ0cIOQYP7",
        "outputId": "8e4f7133-fe53-433a-9d25-cc3899a3bfc3"
      },
      "execution_count": null,
      "outputs": [
        {
          "output_type": "execute_result",
          "data": {
            "text/plain": [
              "Şəhər\n",
              "Bakı        537681\n",
              "Sumqayıt     47849\n",
              "Gəncə        14142\n",
              "Lənkəran      6347\n",
              "Xırdalan      5424\n",
              "             ...  \n",
              "Xocalı           1\n",
              "Zəngilan         1\n",
              "Liman            1\n",
              "Ağdərə           1\n",
              "Qubadlı          1\n",
              "Name: count, Length: 75, dtype: int64"
            ],
            "text/html": [
              "<div>\n",
              "<style scoped>\n",
              "    .dataframe tbody tr th:only-of-type {\n",
              "        vertical-align: middle;\n",
              "    }\n",
              "\n",
              "    .dataframe tbody tr th {\n",
              "        vertical-align: top;\n",
              "    }\n",
              "\n",
              "    .dataframe thead th {\n",
              "        text-align: right;\n",
              "    }\n",
              "</style>\n",
              "<table border=\"1\" class=\"dataframe\">\n",
              "  <thead>\n",
              "    <tr style=\"text-align: right;\">\n",
              "      <th></th>\n",
              "      <th>count</th>\n",
              "    </tr>\n",
              "    <tr>\n",
              "      <th>Şəhər</th>\n",
              "      <th></th>\n",
              "    </tr>\n",
              "  </thead>\n",
              "  <tbody>\n",
              "    <tr>\n",
              "      <th>Bakı</th>\n",
              "      <td>537681</td>\n",
              "    </tr>\n",
              "    <tr>\n",
              "      <th>Sumqayıt</th>\n",
              "      <td>47849</td>\n",
              "    </tr>\n",
              "    <tr>\n",
              "      <th>Gəncə</th>\n",
              "      <td>14142</td>\n",
              "    </tr>\n",
              "    <tr>\n",
              "      <th>Lənkəran</th>\n",
              "      <td>6347</td>\n",
              "    </tr>\n",
              "    <tr>\n",
              "      <th>Xırdalan</th>\n",
              "      <td>5424</td>\n",
              "    </tr>\n",
              "    <tr>\n",
              "      <th>...</th>\n",
              "      <td>...</td>\n",
              "    </tr>\n",
              "    <tr>\n",
              "      <th>Xocalı</th>\n",
              "      <td>1</td>\n",
              "    </tr>\n",
              "    <tr>\n",
              "      <th>Zəngilan</th>\n",
              "      <td>1</td>\n",
              "    </tr>\n",
              "    <tr>\n",
              "      <th>Liman</th>\n",
              "      <td>1</td>\n",
              "    </tr>\n",
              "    <tr>\n",
              "      <th>Ağdərə</th>\n",
              "      <td>1</td>\n",
              "    </tr>\n",
              "    <tr>\n",
              "      <th>Qubadlı</th>\n",
              "      <td>1</td>\n",
              "    </tr>\n",
              "  </tbody>\n",
              "</table>\n",
              "<p>75 rows × 1 columns</p>\n",
              "</div><br><label><b>dtype:</b> int64</label>"
            ]
          },
          "metadata": {},
          "execution_count": 150
        }
      ]
    },
    {
      "cell_type": "code",
      "source": [
        "df['Buraxılış ili'].value_counts(dropna=False).sort_values(ascending=False)"
      ],
      "metadata": {
        "colab": {
          "base_uri": "https://localhost:8080/",
          "height": 490
        },
        "id": "xzfttOvoQYVZ",
        "outputId": "a4b51487-8384-446e-ce49-94a06c463703"
      },
      "execution_count": null,
      "outputs": [
        {
          "output_type": "execute_result",
          "data": {
            "text/plain": [
              "Buraxılış ili\n",
              "2024    73340\n",
              "2015    55094\n",
              "2014    46582\n",
              "2016    40181\n",
              "2017    33783\n",
              "        ...  \n",
              "1955        2\n",
              "1938        2\n",
              "1959        1\n",
              "1947        1\n",
              "1958        1\n",
              "Name: count, Length: 72, dtype: int64"
            ],
            "text/html": [
              "<div>\n",
              "<style scoped>\n",
              "    .dataframe tbody tr th:only-of-type {\n",
              "        vertical-align: middle;\n",
              "    }\n",
              "\n",
              "    .dataframe tbody tr th {\n",
              "        vertical-align: top;\n",
              "    }\n",
              "\n",
              "    .dataframe thead th {\n",
              "        text-align: right;\n",
              "    }\n",
              "</style>\n",
              "<table border=\"1\" class=\"dataframe\">\n",
              "  <thead>\n",
              "    <tr style=\"text-align: right;\">\n",
              "      <th></th>\n",
              "      <th>count</th>\n",
              "    </tr>\n",
              "    <tr>\n",
              "      <th>Buraxılış ili</th>\n",
              "      <th></th>\n",
              "    </tr>\n",
              "  </thead>\n",
              "  <tbody>\n",
              "    <tr>\n",
              "      <th>2024</th>\n",
              "      <td>73340</td>\n",
              "    </tr>\n",
              "    <tr>\n",
              "      <th>2015</th>\n",
              "      <td>55094</td>\n",
              "    </tr>\n",
              "    <tr>\n",
              "      <th>2014</th>\n",
              "      <td>46582</td>\n",
              "    </tr>\n",
              "    <tr>\n",
              "      <th>2016</th>\n",
              "      <td>40181</td>\n",
              "    </tr>\n",
              "    <tr>\n",
              "      <th>2017</th>\n",
              "      <td>33783</td>\n",
              "    </tr>\n",
              "    <tr>\n",
              "      <th>...</th>\n",
              "      <td>...</td>\n",
              "    </tr>\n",
              "    <tr>\n",
              "      <th>1955</th>\n",
              "      <td>2</td>\n",
              "    </tr>\n",
              "    <tr>\n",
              "      <th>1938</th>\n",
              "      <td>2</td>\n",
              "    </tr>\n",
              "    <tr>\n",
              "      <th>1959</th>\n",
              "      <td>1</td>\n",
              "    </tr>\n",
              "    <tr>\n",
              "      <th>1947</th>\n",
              "      <td>1</td>\n",
              "    </tr>\n",
              "    <tr>\n",
              "      <th>1958</th>\n",
              "      <td>1</td>\n",
              "    </tr>\n",
              "  </tbody>\n",
              "</table>\n",
              "<p>72 rows × 1 columns</p>\n",
              "</div><br><label><b>dtype:</b> int64</label>"
            ]
          },
          "metadata": {},
          "execution_count": 151
        }
      ]
    },
    {
      "cell_type": "code",
      "source": [
        "df['Marka'].value_counts(dropna=False).sort_values(ascending=False)"
      ],
      "metadata": {
        "colab": {
          "base_uri": "https://localhost:8080/",
          "height": 490
        },
        "id": "S-VOXRujQYaU",
        "outputId": "9b8fa41e-3dc5-424f-e563-351c27699593"
      },
      "execution_count": null,
      "outputs": [
        {
          "output_type": "execute_result",
          "data": {
            "text/plain": [
              "Marka\n",
              "Mercedes      90830\n",
              "Hyundai       85968\n",
              "Toyota        75167\n",
              "Kia           67029\n",
              "BMW           54432\n",
              "              ...  \n",
              "Dadi              1\n",
              "Vauxhall          1\n",
              "Xin Kai           1\n",
              "Waitzinger        1\n",
              "Ural              1\n",
              "Name: count, Length: 208, dtype: int64"
            ],
            "text/html": [
              "<div>\n",
              "<style scoped>\n",
              "    .dataframe tbody tr th:only-of-type {\n",
              "        vertical-align: middle;\n",
              "    }\n",
              "\n",
              "    .dataframe tbody tr th {\n",
              "        vertical-align: top;\n",
              "    }\n",
              "\n",
              "    .dataframe thead th {\n",
              "        text-align: right;\n",
              "    }\n",
              "</style>\n",
              "<table border=\"1\" class=\"dataframe\">\n",
              "  <thead>\n",
              "    <tr style=\"text-align: right;\">\n",
              "      <th></th>\n",
              "      <th>count</th>\n",
              "    </tr>\n",
              "    <tr>\n",
              "      <th>Marka</th>\n",
              "      <th></th>\n",
              "    </tr>\n",
              "  </thead>\n",
              "  <tbody>\n",
              "    <tr>\n",
              "      <th>Mercedes</th>\n",
              "      <td>90830</td>\n",
              "    </tr>\n",
              "    <tr>\n",
              "      <th>Hyundai</th>\n",
              "      <td>85968</td>\n",
              "    </tr>\n",
              "    <tr>\n",
              "      <th>Toyota</th>\n",
              "      <td>75167</td>\n",
              "    </tr>\n",
              "    <tr>\n",
              "      <th>Kia</th>\n",
              "      <td>67029</td>\n",
              "    </tr>\n",
              "    <tr>\n",
              "      <th>BMW</th>\n",
              "      <td>54432</td>\n",
              "    </tr>\n",
              "    <tr>\n",
              "      <th>...</th>\n",
              "      <td>...</td>\n",
              "    </tr>\n",
              "    <tr>\n",
              "      <th>Dadi</th>\n",
              "      <td>1</td>\n",
              "    </tr>\n",
              "    <tr>\n",
              "      <th>Vauxhall</th>\n",
              "      <td>1</td>\n",
              "    </tr>\n",
              "    <tr>\n",
              "      <th>Xin Kai</th>\n",
              "      <td>1</td>\n",
              "    </tr>\n",
              "    <tr>\n",
              "      <th>Waitzinger</th>\n",
              "      <td>1</td>\n",
              "    </tr>\n",
              "    <tr>\n",
              "      <th>Ural</th>\n",
              "      <td>1</td>\n",
              "    </tr>\n",
              "  </tbody>\n",
              "</table>\n",
              "<p>208 rows × 1 columns</p>\n",
              "</div><br><label><b>dtype:</b> int64</label>"
            ]
          },
          "metadata": {},
          "execution_count": 153
        }
      ]
    },
    {
      "cell_type": "code",
      "source": [
        "df['Ban növü'].value_counts(dropna=False).sort_values(ascending=False)"
      ],
      "metadata": {
        "colab": {
          "base_uri": "https://localhost:8080/",
          "height": 1000
        },
        "id": "qr3KfkXHSH4C",
        "outputId": "b24c9153-221d-45c8-a4f7-000b75b2e80a"
      },
      "execution_count": null,
      "outputs": [
        {
          "output_type": "execute_result",
          "data": {
            "text/plain": [
              "Ban növü\n",
              "Sedan                      277955\n",
              "Offroader / SUV, 5 qapı    225026\n",
              "Hetçbek, 5 qapı             43094\n",
              "Liftbek                     22629\n",
              "Universal, 5 qapı           18337\n",
              "Furqon                      16803\n",
              "Minivan                     10056\n",
              "Yük maşını                   7835\n",
              "Offroader / SUV, 3 qapı      6402\n",
              "Pikap, ikiqat kabin          4785\n",
              "SUV Kupe                     4451\n",
              "Kupe                         3743\n",
              "Kompakt-Van                  3437\n",
              "Dartqı                       2599\n",
              "Motosiklet                   1914\n",
              "Mikroavtobus                 1418\n",
              "Hetçbek, 3 qapı               985\n",
              "Kabriolet                     533\n",
              "Hetçbek, 4 qapı               436\n",
              "Avtobus                       312\n",
              "Rodster                       284\n",
              "Moped                         194\n",
              "Offroader / SUV, açıq         190\n",
              "Kvadrosikl                     99\n",
              "Pikap, tək kabin               54\n",
              "Van                            50\n",
              "Pikap, bir yarım kabin         29\n",
              "Limuzin                        21\n",
              "Universal, 3 qapı              17\n",
              "Karvan                         13\n",
              "Mikrovan                       11\n",
              "Fastbek                         3\n",
              "Tarqa                           2\n",
              "Spidster                        2\n",
              "Fayton                          1\n",
              "Qolfkar                         1\n",
              "Name: count, dtype: int64"
            ],
            "text/html": [
              "<div>\n",
              "<style scoped>\n",
              "    .dataframe tbody tr th:only-of-type {\n",
              "        vertical-align: middle;\n",
              "    }\n",
              "\n",
              "    .dataframe tbody tr th {\n",
              "        vertical-align: top;\n",
              "    }\n",
              "\n",
              "    .dataframe thead th {\n",
              "        text-align: right;\n",
              "    }\n",
              "</style>\n",
              "<table border=\"1\" class=\"dataframe\">\n",
              "  <thead>\n",
              "    <tr style=\"text-align: right;\">\n",
              "      <th></th>\n",
              "      <th>count</th>\n",
              "    </tr>\n",
              "    <tr>\n",
              "      <th>Ban növü</th>\n",
              "      <th></th>\n",
              "    </tr>\n",
              "  </thead>\n",
              "  <tbody>\n",
              "    <tr>\n",
              "      <th>Sedan</th>\n",
              "      <td>277955</td>\n",
              "    </tr>\n",
              "    <tr>\n",
              "      <th>Offroader / SUV, 5 qapı</th>\n",
              "      <td>225026</td>\n",
              "    </tr>\n",
              "    <tr>\n",
              "      <th>Hetçbek, 5 qapı</th>\n",
              "      <td>43094</td>\n",
              "    </tr>\n",
              "    <tr>\n",
              "      <th>Liftbek</th>\n",
              "      <td>22629</td>\n",
              "    </tr>\n",
              "    <tr>\n",
              "      <th>Universal, 5 qapı</th>\n",
              "      <td>18337</td>\n",
              "    </tr>\n",
              "    <tr>\n",
              "      <th>Furqon</th>\n",
              "      <td>16803</td>\n",
              "    </tr>\n",
              "    <tr>\n",
              "      <th>Minivan</th>\n",
              "      <td>10056</td>\n",
              "    </tr>\n",
              "    <tr>\n",
              "      <th>Yük maşını</th>\n",
              "      <td>7835</td>\n",
              "    </tr>\n",
              "    <tr>\n",
              "      <th>Offroader / SUV, 3 qapı</th>\n",
              "      <td>6402</td>\n",
              "    </tr>\n",
              "    <tr>\n",
              "      <th>Pikap, ikiqat kabin</th>\n",
              "      <td>4785</td>\n",
              "    </tr>\n",
              "    <tr>\n",
              "      <th>SUV Kupe</th>\n",
              "      <td>4451</td>\n",
              "    </tr>\n",
              "    <tr>\n",
              "      <th>Kupe</th>\n",
              "      <td>3743</td>\n",
              "    </tr>\n",
              "    <tr>\n",
              "      <th>Kompakt-Van</th>\n",
              "      <td>3437</td>\n",
              "    </tr>\n",
              "    <tr>\n",
              "      <th>Dartqı</th>\n",
              "      <td>2599</td>\n",
              "    </tr>\n",
              "    <tr>\n",
              "      <th>Motosiklet</th>\n",
              "      <td>1914</td>\n",
              "    </tr>\n",
              "    <tr>\n",
              "      <th>Mikroavtobus</th>\n",
              "      <td>1418</td>\n",
              "    </tr>\n",
              "    <tr>\n",
              "      <th>Hetçbek, 3 qapı</th>\n",
              "      <td>985</td>\n",
              "    </tr>\n",
              "    <tr>\n",
              "      <th>Kabriolet</th>\n",
              "      <td>533</td>\n",
              "    </tr>\n",
              "    <tr>\n",
              "      <th>Hetçbek, 4 qapı</th>\n",
              "      <td>436</td>\n",
              "    </tr>\n",
              "    <tr>\n",
              "      <th>Avtobus</th>\n",
              "      <td>312</td>\n",
              "    </tr>\n",
              "    <tr>\n",
              "      <th>Rodster</th>\n",
              "      <td>284</td>\n",
              "    </tr>\n",
              "    <tr>\n",
              "      <th>Moped</th>\n",
              "      <td>194</td>\n",
              "    </tr>\n",
              "    <tr>\n",
              "      <th>Offroader / SUV, açıq</th>\n",
              "      <td>190</td>\n",
              "    </tr>\n",
              "    <tr>\n",
              "      <th>Kvadrosikl</th>\n",
              "      <td>99</td>\n",
              "    </tr>\n",
              "    <tr>\n",
              "      <th>Pikap, tək kabin</th>\n",
              "      <td>54</td>\n",
              "    </tr>\n",
              "    <tr>\n",
              "      <th>Van</th>\n",
              "      <td>50</td>\n",
              "    </tr>\n",
              "    <tr>\n",
              "      <th>Pikap, bir yarım kabin</th>\n",
              "      <td>29</td>\n",
              "    </tr>\n",
              "    <tr>\n",
              "      <th>Limuzin</th>\n",
              "      <td>21</td>\n",
              "    </tr>\n",
              "    <tr>\n",
              "      <th>Universal, 3 qapı</th>\n",
              "      <td>17</td>\n",
              "    </tr>\n",
              "    <tr>\n",
              "      <th>Karvan</th>\n",
              "      <td>13</td>\n",
              "    </tr>\n",
              "    <tr>\n",
              "      <th>Mikrovan</th>\n",
              "      <td>11</td>\n",
              "    </tr>\n",
              "    <tr>\n",
              "      <th>Fastbek</th>\n",
              "      <td>3</td>\n",
              "    </tr>\n",
              "    <tr>\n",
              "      <th>Tarqa</th>\n",
              "      <td>2</td>\n",
              "    </tr>\n",
              "    <tr>\n",
              "      <th>Spidster</th>\n",
              "      <td>2</td>\n",
              "    </tr>\n",
              "    <tr>\n",
              "      <th>Fayton</th>\n",
              "      <td>1</td>\n",
              "    </tr>\n",
              "    <tr>\n",
              "      <th>Qolfkar</th>\n",
              "      <td>1</td>\n",
              "    </tr>\n",
              "  </tbody>\n",
              "</table>\n",
              "</div><br><label><b>dtype:</b> int64</label>"
            ]
          },
          "metadata": {},
          "execution_count": 155
        }
      ]
    },
    {
      "cell_type": "code",
      "source": [
        "df['Mühərrik'].value_counts(dropna=False).sort_values(ascending=False)"
      ],
      "metadata": {
        "colab": {
          "base_uri": "https://localhost:8080/",
          "height": 490
        },
        "id": "b-cs__xHSKfQ",
        "outputId": "37f13499-9d33-465f-dc0e-271f55501f26"
      },
      "execution_count": null,
      "outputs": [
        {
          "output_type": "execute_result",
          "data": {
            "text/plain": [
              "Mühərrik\n",
              "2.0 L/184 a.g./Dizel         19936\n",
              "2.0 L/245 a.g./Benzin        13508\n",
              "2.0 L/150 a.g./Benzin        10594\n",
              "2.0 L / 184 a.g. / Dizel      9898\n",
              "3.0 L/340 a.g./Benzin         8806\n",
              "                             ...  \n",
              "2.3 L/118 a.g./Benzin            1\n",
              "2.0 L/265 a.g./Dizel             1\n",
              "0.6 L/10 a.g./Benzin             1\n",
              "0.3 L/39 a.g./Benzin             1\n",
              "4.7 L / 258 a.g. / Benzin        1\n",
              "Name: count, Length: 7410, dtype: int64"
            ],
            "text/html": [
              "<div>\n",
              "<style scoped>\n",
              "    .dataframe tbody tr th:only-of-type {\n",
              "        vertical-align: middle;\n",
              "    }\n",
              "\n",
              "    .dataframe tbody tr th {\n",
              "        vertical-align: top;\n",
              "    }\n",
              "\n",
              "    .dataframe thead th {\n",
              "        text-align: right;\n",
              "    }\n",
              "</style>\n",
              "<table border=\"1\" class=\"dataframe\">\n",
              "  <thead>\n",
              "    <tr style=\"text-align: right;\">\n",
              "      <th></th>\n",
              "      <th>count</th>\n",
              "    </tr>\n",
              "    <tr>\n",
              "      <th>Mühərrik</th>\n",
              "      <th></th>\n",
              "    </tr>\n",
              "  </thead>\n",
              "  <tbody>\n",
              "    <tr>\n",
              "      <th>2.0 L/184 a.g./Dizel</th>\n",
              "      <td>19936</td>\n",
              "    </tr>\n",
              "    <tr>\n",
              "      <th>2.0 L/245 a.g./Benzin</th>\n",
              "      <td>13508</td>\n",
              "    </tr>\n",
              "    <tr>\n",
              "      <th>2.0 L/150 a.g./Benzin</th>\n",
              "      <td>10594</td>\n",
              "    </tr>\n",
              "    <tr>\n",
              "      <th>2.0 L / 184 a.g. / Dizel</th>\n",
              "      <td>9898</td>\n",
              "    </tr>\n",
              "    <tr>\n",
              "      <th>3.0 L/340 a.g./Benzin</th>\n",
              "      <td>8806</td>\n",
              "    </tr>\n",
              "    <tr>\n",
              "      <th>...</th>\n",
              "      <td>...</td>\n",
              "    </tr>\n",
              "    <tr>\n",
              "      <th>2.3 L/118 a.g./Benzin</th>\n",
              "      <td>1</td>\n",
              "    </tr>\n",
              "    <tr>\n",
              "      <th>2.0 L/265 a.g./Dizel</th>\n",
              "      <td>1</td>\n",
              "    </tr>\n",
              "    <tr>\n",
              "      <th>0.6 L/10 a.g./Benzin</th>\n",
              "      <td>1</td>\n",
              "    </tr>\n",
              "    <tr>\n",
              "      <th>0.3 L/39 a.g./Benzin</th>\n",
              "      <td>1</td>\n",
              "    </tr>\n",
              "    <tr>\n",
              "      <th>4.7 L / 258 a.g. / Benzin</th>\n",
              "      <td>1</td>\n",
              "    </tr>\n",
              "  </tbody>\n",
              "</table>\n",
              "<p>7410 rows × 1 columns</p>\n",
              "</div><br><label><b>dtype:</b> int64</label>"
            ]
          },
          "metadata": {},
          "execution_count": 157
        }
      ]
    },
    {
      "cell_type": "code",
      "source": [
        "df['Ötürücü'].value_counts(dropna=False).sort_values(ascending=False)"
      ],
      "metadata": {
        "colab": {
          "base_uri": "https://localhost:8080/",
          "height": 210
        },
        "id": "C_3WIne1SKo2",
        "outputId": "ef8659a9-a059-44a5-ca38-622666590854"
      },
      "execution_count": null,
      "outputs": [
        {
          "output_type": "execute_result",
          "data": {
            "text/plain": [
              "Ötürücü\n",
              "Ön      317025\n",
              "Tam     187234\n",
              "Arxa    149118\n",
              "Name: count, dtype: int64"
            ],
            "text/html": [
              "<div>\n",
              "<style scoped>\n",
              "    .dataframe tbody tr th:only-of-type {\n",
              "        vertical-align: middle;\n",
              "    }\n",
              "\n",
              "    .dataframe tbody tr th {\n",
              "        vertical-align: top;\n",
              "    }\n",
              "\n",
              "    .dataframe thead th {\n",
              "        text-align: right;\n",
              "    }\n",
              "</style>\n",
              "<table border=\"1\" class=\"dataframe\">\n",
              "  <thead>\n",
              "    <tr style=\"text-align: right;\">\n",
              "      <th></th>\n",
              "      <th>count</th>\n",
              "    </tr>\n",
              "    <tr>\n",
              "      <th>Ötürücü</th>\n",
              "      <th></th>\n",
              "    </tr>\n",
              "  </thead>\n",
              "  <tbody>\n",
              "    <tr>\n",
              "      <th>Ön</th>\n",
              "      <td>317025</td>\n",
              "    </tr>\n",
              "    <tr>\n",
              "      <th>Tam</th>\n",
              "      <td>187234</td>\n",
              "    </tr>\n",
              "    <tr>\n",
              "      <th>Arxa</th>\n",
              "      <td>149118</td>\n",
              "    </tr>\n",
              "  </tbody>\n",
              "</table>\n",
              "</div><br><label><b>dtype:</b> int64</label>"
            ]
          },
          "metadata": {},
          "execution_count": 196
        }
      ]
    },
    {
      "cell_type": "code",
      "source": [
        "df['Rəng'].value_counts(dropna=False).plot.bar(rot=45, title='with NaN values', legend='count',\n",
        "                                               figsize=(12, 6), grid=True, style='ggplot', fontsize=12,\n",
        "                                               xlabel='Color')\n",
        "\n",
        "plt.show()"
      ],
      "metadata": {
        "colab": {
          "base_uri": "https://localhost:8080/"
        },
        "id": "XuMj9Yk5SK9y",
        "outputId": "c79437ef-2277-4adf-affa-1302f7d44de0"
      },
      "execution_count": null,
      "outputs": [
        {
          "output_type": "display_data",
          "data": {
            "text/plain": [
              "<Figure size 1200x600 with 1 Axes>"
            ],
            "image/png": "[encoded data removed]"
          },
          "metadata": {}
        }
      ]
    },
    {
      "cell_type": "code",
      "source": [
        "df['Sürətlər qutusu'].value_counts(dropna=False).sort_values(ascending=False).plot.bar(rot=0, grid=True, figsize=(12, 6))\n",
        "plt.show()"
      ],
      "metadata": {
        "colab": {
          "base_uri": "https://localhost:8080/"
        },
        "id": "UmldSwGBSLJj",
        "outputId": "e7fc012b-ce52-40b7-ab67-2124b24c3ca4"
      },
      "execution_count": null,
      "outputs": [
        {
          "output_type": "display_data",
          "data": {
            "text/plain": [
              "<Figure size 1200x600 with 1 Axes>"
            ],
            "image/png": "[encoded data removed]"
          },
          "metadata": {}
        }
      ]
    },
    {
      "cell_type": "code",
      "source": [
        "df['Yeni'].value_counts(dropna=False).sort_values(ascending=False).plot.bar(rot=0)\n",
        "plt.show()"
      ],
      "metadata": {
        "colab": {
          "base_uri": "https://localhost:8080/"
        },
        "id": "-gXZ3uhInPAs",
        "outputId": "7374e6c1-41f7-46f0-9add-5ac0150e074a"
      },
      "execution_count": null,
      "outputs": [
        {
          "output_type": "display_data",
          "data": {
            "text/plain": [
              "<Figure size 640x480 with 1 Axes>"
            ],
            "image/png": "[encoded data removed]"
          },
          "metadata": {}
        }
      ]
    },
    {
      "cell_type": "code",
      "source": [
        "df['Yürüş'].value_counts(dropna=False).sort_values(ascending=False)[:8]"
      ],
      "metadata": {
        "colab": {
          "base_uri": "https://localhost:8080/",
          "height": 366
        },
        "id": "ekRyhysenPie",
        "outputId": "877001a6-dc8a-4290-bf75-39ffd180ad4c"
      },
      "execution_count": null,
      "outputs": [
        {
          "output_type": "execute_result",
          "data": {
            "text/plain": [
              "Yürüş\n",
              "0 km          87968\n",
              "250 000 km     4561\n",
              "200 000 km     3684\n",
              "300 000 km     3531\n",
              "220 000 km     3282\n",
              "180 000 km     3273\n",
              "170 000 km     3233\n",
              "150 000 km     3231\n",
              "Name: count, dtype: int64"
            ],
            "text/html": [
              "<div>\n",
              "<style scoped>\n",
              "    .dataframe tbody tr th:only-of-type {\n",
              "        vertical-align: middle;\n",
              "    }\n",
              "\n",
              "    .dataframe tbody tr th {\n",
              "        vertical-align: top;\n",
              "    }\n",
              "\n",
              "    .dataframe thead th {\n",
              "        text-align: right;\n",
              "    }\n",
              "</style>\n",
              "<table border=\"1\" class=\"dataframe\">\n",
              "  <thead>\n",
              "    <tr style=\"text-align: right;\">\n",
              "      <th></th>\n",
              "      <th>count</th>\n",
              "    </tr>\n",
              "    <tr>\n",
              "      <th>Yürüş</th>\n",
              "      <th></th>\n",
              "    </tr>\n",
              "  </thead>\n",
              "  <tbody>\n",
              "    <tr>\n",
              "      <th>0 km</th>\n",
              "      <td>87968</td>\n",
              "    </tr>\n",
              "    <tr>\n",
              "      <th>250 000 km</th>\n",
              "      <td>4561</td>\n",
              "    </tr>\n",
              "    <tr>\n",
              "      <th>200 000 km</th>\n",
              "      <td>3684</td>\n",
              "    </tr>\n",
              "    <tr>\n",
              "      <th>300 000 km</th>\n",
              "      <td>3531</td>\n",
              "    </tr>\n",
              "    <tr>\n",
              "      <th>220 000 km</th>\n",
              "      <td>3282</td>\n",
              "    </tr>\n",
              "    <tr>\n",
              "      <th>180 000 km</th>\n",
              "      <td>3273</td>\n",
              "    </tr>\n",
              "    <tr>\n",
              "      <th>170 000 km</th>\n",
              "      <td>3233</td>\n",
              "    </tr>\n",
              "    <tr>\n",
              "      <th>150 000 km</th>\n",
              "      <td>3231</td>\n",
              "    </tr>\n",
              "  </tbody>\n",
              "</table>\n",
              "</div><br><label><b>dtype:</b> int64</label>"
            ]
          },
          "metadata": {},
          "execution_count": 202
        }
      ]
    },
    {
      "cell_type": "code",
      "source": [
        "df.loc[:, ['price_y']].value_counts(dropna=False).sort_values(ascending=False)[:8]"
      ],
      "metadata": {
        "colab": {
          "base_uri": "https://localhost:8080/",
          "height": 366
        },
        "id": "hTcc3sobnPtV",
        "outputId": "fa6ff15e-5d98-4afd-b862-7d0c0ec20e3c"
      },
      "execution_count": null,
      "outputs": [
        {
          "output_type": "execute_result",
          "data": {
            "text/plain": [
              "price_y\n",
              "23500.0    5967\n",
              "21500.0    5601\n",
              "22500.0    5521\n",
              "26500.0    4940\n",
              "28500.0    4845\n",
              "24500.0    4740\n",
              "23900.0    4654\n",
              "25500.0    4601\n",
              "Name: count, dtype: int64"
            ],
            "text/html": [
              "<div>\n",
              "<style scoped>\n",
              "    .dataframe tbody tr th:only-of-type {\n",
              "        vertical-align: middle;\n",
              "    }\n",
              "\n",
              "    .dataframe tbody tr th {\n",
              "        vertical-align: top;\n",
              "    }\n",
              "\n",
              "    .dataframe thead th {\n",
              "        text-align: right;\n",
              "    }\n",
              "</style>\n",
              "<table border=\"1\" class=\"dataframe\">\n",
              "  <thead>\n",
              "    <tr style=\"text-align: right;\">\n",
              "      <th></th>\n",
              "      <th>count</th>\n",
              "    </tr>\n",
              "    <tr>\n",
              "      <th>price_y</th>\n",
              "      <th></th>\n",
              "    </tr>\n",
              "  </thead>\n",
              "  <tbody>\n",
              "    <tr>\n",
              "      <th>23500.0</th>\n",
              "      <td>5967</td>\n",
              "    </tr>\n",
              "    <tr>\n",
              "      <th>21500.0</th>\n",
              "      <td>5601</td>\n",
              "    </tr>\n",
              "    <tr>\n",
              "      <th>22500.0</th>\n",
              "      <td>5521</td>\n",
              "    </tr>\n",
              "    <tr>\n",
              "      <th>26500.0</th>\n",
              "      <td>4940</td>\n",
              "    </tr>\n",
              "    <tr>\n",
              "      <th>28500.0</th>\n",
              "      <td>4845</td>\n",
              "    </tr>\n",
              "    <tr>\n",
              "      <th>24500.0</th>\n",
              "      <td>4740</td>\n",
              "    </tr>\n",
              "    <tr>\n",
              "      <th>23900.0</th>\n",
              "      <td>4654</td>\n",
              "    </tr>\n",
              "    <tr>\n",
              "      <th>25500.0</th>\n",
              "      <td>4601</td>\n",
              "    </tr>\n",
              "  </tbody>\n",
              "</table>\n",
              "</div><br><label><b>dtype:</b> int64</label>"
            ]
          },
          "metadata": {},
          "execution_count": 204
        }
      ]
    },
    {
      "cell_type": "code",
      "source": [
        "df['currency_x'].value_counts(dropna=False).sort_values(ascending=False)[:8]"
      ],
      "metadata": {
        "colab": {
          "base_uri": "https://localhost:8080/",
          "height": 210
        },
        "id": "LClUp7dUnPyk",
        "outputId": "b7a6fc41-0f98-4345-aa89-5ae557baabd7"
      },
      "execution_count": null,
      "outputs": [
        {
          "output_type": "execute_result",
          "data": {
            "text/plain": [
              "currency_x\n",
              "AZN    465269\n",
              "$      182221\n",
              "€        5887\n",
              "Name: count, dtype: int64"
            ],
            "text/html": [
              "<div>\n",
              "<style scoped>\n",
              "    .dataframe tbody tr th:only-of-type {\n",
              "        vertical-align: middle;\n",
              "    }\n",
              "\n",
              "    .dataframe tbody tr th {\n",
              "        vertical-align: top;\n",
              "    }\n",
              "\n",
              "    .dataframe thead th {\n",
              "        text-align: right;\n",
              "    }\n",
              "</style>\n",
              "<table border=\"1\" class=\"dataframe\">\n",
              "  <thead>\n",
              "    <tr style=\"text-align: right;\">\n",
              "      <th></th>\n",
              "      <th>count</th>\n",
              "    </tr>\n",
              "    <tr>\n",
              "      <th>currency_x</th>\n",
              "      <th></th>\n",
              "    </tr>\n",
              "  </thead>\n",
              "  <tbody>\n",
              "    <tr>\n",
              "      <th>AZN</th>\n",
              "      <td>465269</td>\n",
              "    </tr>\n",
              "    <tr>\n",
              "      <th>$</th>\n",
              "      <td>182221</td>\n",
              "    </tr>\n",
              "    <tr>\n",
              "      <th>€</th>\n",
              "      <td>5887</td>\n",
              "    </tr>\n",
              "  </tbody>\n",
              "</table>\n",
              "</div><br><label><b>dtype:</b> int64</label>"
            ]
          },
          "metadata": {},
          "execution_count": 205
        }
      ]
    },
    {
      "cell_type": "code",
      "source": [
        "df['datetime_product'].value_counts(dropna=False).sort_values(ascending=False)[:8]"
      ],
      "metadata": {
        "colab": {
          "base_uri": "https://localhost:8080/",
          "height": 366
        },
        "id": "YrIGaWuOnP3k",
        "outputId": "d652985f-0f5a-4267-9216-880698852f09"
      },
      "execution_count": null,
      "outputs": [
        {
          "output_type": "execute_result",
          "data": {
            "text/plain": [
              "datetime_product\n",
              "Bakı, dünən 12:00    1346\n",
              "Bakı, dünən 11:24    1269\n",
              "Bakı, dünən 12:01    1192\n",
              "Bakı, dünən 11:50    1187\n",
              "Bakı, dünən 14:00    1185\n",
              "Bakı, dünən 11:11    1128\n",
              "Bakı, dünən 11:30    1124\n",
              "Bakı, dünən 11:13    1097\n",
              "Name: count, dtype: int64"
            ],
            "text/html": [
              "<div>\n",
              "<style scoped>\n",
              "    .dataframe tbody tr th:only-of-type {\n",
              "        vertical-align: middle;\n",
              "    }\n",
              "\n",
              "    .dataframe tbody tr th {\n",
              "        vertical-align: top;\n",
              "    }\n",
              "\n",
              "    .dataframe thead th {\n",
              "        text-align: right;\n",
              "    }\n",
              "</style>\n",
              "<table border=\"1\" class=\"dataframe\">\n",
              "  <thead>\n",
              "    <tr style=\"text-align: right;\">\n",
              "      <th></th>\n",
              "      <th>count</th>\n",
              "    </tr>\n",
              "    <tr>\n",
              "      <th>datetime_product</th>\n",
              "      <th></th>\n",
              "    </tr>\n",
              "  </thead>\n",
              "  <tbody>\n",
              "    <tr>\n",
              "      <th>Bakı, dünən 12:00</th>\n",
              "      <td>1346</td>\n",
              "    </tr>\n",
              "    <tr>\n",
              "      <th>Bakı, dünən 11:24</th>\n",
              "      <td>1269</td>\n",
              "    </tr>\n",
              "    <tr>\n",
              "      <th>Bakı, dünən 12:01</th>\n",
              "      <td>1192</td>\n",
              "    </tr>\n",
              "    <tr>\n",
              "      <th>Bakı, dünən 11:50</th>\n",
              "      <td>1187</td>\n",
              "    </tr>\n",
              "    <tr>\n",
              "      <th>Bakı, dünən 14:00</th>\n",
              "      <td>1185</td>\n",
              "    </tr>\n",
              "    <tr>\n",
              "      <th>Bakı, dünən 11:11</th>\n",
              "      <td>1128</td>\n",
              "    </tr>\n",
              "    <tr>\n",
              "      <th>Bakı, dünən 11:30</th>\n",
              "      <td>1124</td>\n",
              "    </tr>\n",
              "    <tr>\n",
              "      <th>Bakı, dünən 11:13</th>\n",
              "      <td>1097</td>\n",
              "    </tr>\n",
              "  </tbody>\n",
              "</table>\n",
              "</div><br><label><b>dtype:</b> int64</label>"
            ]
          },
          "metadata": {},
          "execution_count": 206
        }
      ]
    },
    {
      "cell_type": "code",
      "source": [
        "df['city'].value_counts(dropna=False).sort_values(ascending=False)[:8]"
      ],
      "metadata": {
        "colab": {
          "base_uri": "https://localhost:8080/",
          "height": 366
        },
        "id": "5h4BLdqxSH8s",
        "outputId": "38e0df6d-9907-4f94-fa8d-b13a1e8e3c95"
      },
      "execution_count": null,
      "outputs": [
        {
          "output_type": "execute_result",
          "data": {
            "text/plain": [
              "city\n",
              "bakı          537375\n",
              "sumqayıt       47841\n",
              "gəncə          14135\n",
              "lənkəran        6346\n",
              "xırdalan        5421\n",
              "şəmkir          2543\n",
              "xaçmaz          2460\n",
              "mingəçevir      2295\n",
              "Name: count, dtype: int64"
            ],
            "text/html": [
              "<div>\n",
              "<style scoped>\n",
              "    .dataframe tbody tr th:only-of-type {\n",
              "        vertical-align: middle;\n",
              "    }\n",
              "\n",
              "    .dataframe tbody tr th {\n",
              "        vertical-align: top;\n",
              "    }\n",
              "\n",
              "    .dataframe thead th {\n",
              "        text-align: right;\n",
              "    }\n",
              "</style>\n",
              "<table border=\"1\" class=\"dataframe\">\n",
              "  <thead>\n",
              "    <tr style=\"text-align: right;\">\n",
              "      <th></th>\n",
              "      <th>count</th>\n",
              "    </tr>\n",
              "    <tr>\n",
              "      <th>city</th>\n",
              "      <th></th>\n",
              "    </tr>\n",
              "  </thead>\n",
              "  <tbody>\n",
              "    <tr>\n",
              "      <th>bakı</th>\n",
              "      <td>537375</td>\n",
              "    </tr>\n",
              "    <tr>\n",
              "      <th>sumqayıt</th>\n",
              "      <td>47841</td>\n",
              "    </tr>\n",
              "    <tr>\n",
              "      <th>gəncə</th>\n",
              "      <td>14135</td>\n",
              "    </tr>\n",
              "    <tr>\n",
              "      <th>lənkəran</th>\n",
              "      <td>6346</td>\n",
              "    </tr>\n",
              "    <tr>\n",
              "      <th>xırdalan</th>\n",
              "      <td>5421</td>\n",
              "    </tr>\n",
              "    <tr>\n",
              "      <th>şəmkir</th>\n",
              "      <td>2543</td>\n",
              "    </tr>\n",
              "    <tr>\n",
              "      <th>xaçmaz</th>\n",
              "      <td>2460</td>\n",
              "    </tr>\n",
              "    <tr>\n",
              "      <th>mingəçevir</th>\n",
              "      <td>2295</td>\n",
              "    </tr>\n",
              "  </tbody>\n",
              "</table>\n",
              "</div><br><label><b>dtype:</b> int64</label>"
            ]
          },
          "metadata": {},
          "execution_count": 207
        }
      ]
    },
    {
      "cell_type": "code",
      "source": [
        "df['day'].value_counts(dropna=False).sort_values(ascending=False)[:8]"
      ],
      "metadata": {
        "colab": {
          "base_uri": "https://localhost:8080/",
          "height": 366
        },
        "id": "dssWEpqpSH_5",
        "outputId": "31fdeab2-850c-47a4-c015-1d70820b3eb5"
      },
      "execution_count": null,
      "outputs": [
        {
          "output_type": "execute_result",
          "data": {
            "text/plain": [
              "day\n",
              "04.10.2024    13275\n",
              "24.11.2024     8038\n",
              "05.01.2025     7952\n",
              "25.11.2024     7874\n",
              "05.12.2024     7852\n",
              "22.12.2024     7671\n",
              "20.11.2024     7664\n",
              "17.11.2024     7609\n",
              "Name: count, dtype: int64"
            ],
            "text/html": [
              "<div>\n",
              "<style scoped>\n",
              "    .dataframe tbody tr th:only-of-type {\n",
              "        vertical-align: middle;\n",
              "    }\n",
              "\n",
              "    .dataframe tbody tr th {\n",
              "        vertical-align: top;\n",
              "    }\n",
              "\n",
              "    .dataframe thead th {\n",
              "        text-align: right;\n",
              "    }\n",
              "</style>\n",
              "<table border=\"1\" class=\"dataframe\">\n",
              "  <thead>\n",
              "    <tr style=\"text-align: right;\">\n",
              "      <th></th>\n",
              "      <th>count</th>\n",
              "    </tr>\n",
              "    <tr>\n",
              "      <th>day</th>\n",
              "      <th></th>\n",
              "    </tr>\n",
              "  </thead>\n",
              "  <tbody>\n",
              "    <tr>\n",
              "      <th>04.10.2024</th>\n",
              "      <td>13275</td>\n",
              "    </tr>\n",
              "    <tr>\n",
              "      <th>24.11.2024</th>\n",
              "      <td>8038</td>\n",
              "    </tr>\n",
              "    <tr>\n",
              "      <th>05.01.2025</th>\n",
              "      <td>7952</td>\n",
              "    </tr>\n",
              "    <tr>\n",
              "      <th>25.11.2024</th>\n",
              "      <td>7874</td>\n",
              "    </tr>\n",
              "    <tr>\n",
              "      <th>05.12.2024</th>\n",
              "      <td>7852</td>\n",
              "    </tr>\n",
              "    <tr>\n",
              "      <th>22.12.2024</th>\n",
              "      <td>7671</td>\n",
              "    </tr>\n",
              "    <tr>\n",
              "      <th>20.11.2024</th>\n",
              "      <td>7664</td>\n",
              "    </tr>\n",
              "    <tr>\n",
              "      <th>17.11.2024</th>\n",
              "      <td>7609</td>\n",
              "    </tr>\n",
              "  </tbody>\n",
              "</table>\n",
              "</div><br><label><b>dtype:</b> int64</label>"
            ]
          },
          "metadata": {},
          "execution_count": 208
        }
      ]
    },
    {
      "cell_type": "code",
      "source": [
        "df['hour'].value_counts(dropna=False).sort_values(ascending=False)[:8]"
      ],
      "metadata": {
        "colab": {
          "base_uri": "https://localhost:8080/",
          "height": 366
        },
        "id": "I7CcobTxSIDC",
        "outputId": "0d606019-afa4-4113-f39f-6dd8797bf549"
      },
      "execution_count": null,
      "outputs": [
        {
          "output_type": "execute_result",
          "data": {
            "text/plain": [
              "hour\n",
              "12:00    1549\n",
              "11:11    1443\n",
              "11:24    1440\n",
              "11:50    1420\n",
              "11:09    1359\n",
              "12:01    1349\n",
              "11:13    1339\n",
              "11:10    1330\n",
              "Name: count, dtype: int64"
            ],
            "text/html": [
              "<div>\n",
              "<style scoped>\n",
              "    .dataframe tbody tr th:only-of-type {\n",
              "        vertical-align: middle;\n",
              "    }\n",
              "\n",
              "    .dataframe tbody tr th {\n",
              "        vertical-align: top;\n",
              "    }\n",
              "\n",
              "    .dataframe thead th {\n",
              "        text-align: right;\n",
              "    }\n",
              "</style>\n",
              "<table border=\"1\" class=\"dataframe\">\n",
              "  <thead>\n",
              "    <tr style=\"text-align: right;\">\n",
              "      <th></th>\n",
              "      <th>count</th>\n",
              "    </tr>\n",
              "    <tr>\n",
              "      <th>hour</th>\n",
              "      <th></th>\n",
              "    </tr>\n",
              "  </thead>\n",
              "  <tbody>\n",
              "    <tr>\n",
              "      <th>12:00</th>\n",
              "      <td>1549</td>\n",
              "    </tr>\n",
              "    <tr>\n",
              "      <th>11:11</th>\n",
              "      <td>1443</td>\n",
              "    </tr>\n",
              "    <tr>\n",
              "      <th>11:24</th>\n",
              "      <td>1440</td>\n",
              "    </tr>\n",
              "    <tr>\n",
              "      <th>11:50</th>\n",
              "      <td>1420</td>\n",
              "    </tr>\n",
              "    <tr>\n",
              "      <th>11:09</th>\n",
              "      <td>1359</td>\n",
              "    </tr>\n",
              "    <tr>\n",
              "      <th>12:01</th>\n",
              "      <td>1349</td>\n",
              "    </tr>\n",
              "    <tr>\n",
              "      <th>11:13</th>\n",
              "      <td>1339</td>\n",
              "    </tr>\n",
              "    <tr>\n",
              "      <th>11:10</th>\n",
              "      <td>1330</td>\n",
              "    </tr>\n",
              "  </tbody>\n",
              "</table>\n",
              "</div><br><label><b>dtype:</b> int64</label>"
            ]
          },
          "metadata": {},
          "execution_count": 209
        }
      ]
    },
    {
      "cell_type": "code",
      "source": [
        "df['production_year'].value_counts(dropna=False).sort_values(ascending=False)[:8]"
      ],
      "metadata": {
        "colab": {
          "base_uri": "https://localhost:8080/",
          "height": 366
        },
        "id": "CeuXBzgySIG9",
        "outputId": "570d33a0-e39f-470b-c251-ba5cfbc59099"
      },
      "execution_count": null,
      "outputs": [
        {
          "output_type": "execute_result",
          "data": {
            "text/plain": [
              "production_year\n",
              "2024    70223\n",
              "2015    55051\n",
              "2014    46530\n",
              "2016    40159\n",
              "2017    33734\n",
              "2008    32289\n",
              "2013    31235\n",
              "2018    27839\n",
              "Name: count, dtype: int64"
            ],
            "text/html": [
              "<div>\n",
              "<style scoped>\n",
              "    .dataframe tbody tr th:only-of-type {\n",
              "        vertical-align: middle;\n",
              "    }\n",
              "\n",
              "    .dataframe tbody tr th {\n",
              "        vertical-align: top;\n",
              "    }\n",
              "\n",
              "    .dataframe thead th {\n",
              "        text-align: right;\n",
              "    }\n",
              "</style>\n",
              "<table border=\"1\" class=\"dataframe\">\n",
              "  <thead>\n",
              "    <tr style=\"text-align: right;\">\n",
              "      <th></th>\n",
              "      <th>count</th>\n",
              "    </tr>\n",
              "    <tr>\n",
              "      <th>production_year</th>\n",
              "      <th></th>\n",
              "    </tr>\n",
              "  </thead>\n",
              "  <tbody>\n",
              "    <tr>\n",
              "      <th>2024</th>\n",
              "      <td>70223</td>\n",
              "    </tr>\n",
              "    <tr>\n",
              "      <th>2015</th>\n",
              "      <td>55051</td>\n",
              "    </tr>\n",
              "    <tr>\n",
              "      <th>2014</th>\n",
              "      <td>46530</td>\n",
              "    </tr>\n",
              "    <tr>\n",
              "      <th>2016</th>\n",
              "      <td>40159</td>\n",
              "    </tr>\n",
              "    <tr>\n",
              "      <th>2017</th>\n",
              "      <td>33734</td>\n",
              "    </tr>\n",
              "    <tr>\n",
              "      <th>2008</th>\n",
              "      <td>32289</td>\n",
              "    </tr>\n",
              "    <tr>\n",
              "      <th>2013</th>\n",
              "      <td>31235</td>\n",
              "    </tr>\n",
              "    <tr>\n",
              "      <th>2018</th>\n",
              "      <td>27839</td>\n",
              "    </tr>\n",
              "  </tbody>\n",
              "</table>\n",
              "</div><br><label><b>dtype:</b> int64</label>"
            ]
          },
          "metadata": {},
          "execution_count": 210
        }
      ]
    },
    {
      "cell_type": "code",
      "source": [
        "df['currency_y'].value_counts(dropna=False).sort_values(ascending=False)[:8]"
      ],
      "metadata": {
        "colab": {
          "base_uri": "https://localhost:8080/",
          "height": 210
        },
        "id": "MggpaR-5QYeL",
        "outputId": "69f5726b-d888-4c0c-bc4e-93d48616425c"
      },
      "execution_count": null,
      "outputs": [
        {
          "output_type": "execute_result",
          "data": {
            "text/plain": [
              "currency_y\n",
              "AZN    465267\n",
              "USD    182224\n",
              "EUR      5886\n",
              "Name: count, dtype: int64"
            ],
            "text/html": [
              "<div>\n",
              "<style scoped>\n",
              "    .dataframe tbody tr th:only-of-type {\n",
              "        vertical-align: middle;\n",
              "    }\n",
              "\n",
              "    .dataframe tbody tr th {\n",
              "        vertical-align: top;\n",
              "    }\n",
              "\n",
              "    .dataframe thead th {\n",
              "        text-align: right;\n",
              "    }\n",
              "</style>\n",
              "<table border=\"1\" class=\"dataframe\">\n",
              "  <thead>\n",
              "    <tr style=\"text-align: right;\">\n",
              "      <th></th>\n",
              "      <th>count</th>\n",
              "    </tr>\n",
              "    <tr>\n",
              "      <th>currency_y</th>\n",
              "      <th></th>\n",
              "    </tr>\n",
              "  </thead>\n",
              "  <tbody>\n",
              "    <tr>\n",
              "      <th>AZN</th>\n",
              "      <td>465267</td>\n",
              "    </tr>\n",
              "    <tr>\n",
              "      <th>USD</th>\n",
              "      <td>182224</td>\n",
              "    </tr>\n",
              "    <tr>\n",
              "      <th>EUR</th>\n",
              "      <td>5886</td>\n",
              "    </tr>\n",
              "  </tbody>\n",
              "</table>\n",
              "</div><br><label><b>dtype:</b> int64</label>"
            ]
          },
          "metadata": {},
          "execution_count": 211
        }
      ]
    },
    {
      "cell_type": "code",
      "source": [
        "df['engine_displacement_num'].value_counts(dropna=False).sort_values(ascending=False).plot.hist(grid=True, style='plotly')"
      ],
      "metadata": {
        "colab": {
          "base_uri": "https://localhost:8080/"
        },
        "id": "UbfbKNX8qmR9",
        "outputId": "06302260-7360-4332-c60a-a89e6e608003"
      },
      "execution_count": null,
      "outputs": [
        {
          "output_type": "execute_result",
          "data": {
            "text/plain": [
              "<Axes: ylabel='Frequency'>"
            ]
          },
          "metadata": {},
          "execution_count": 73
        },
        {
          "output_type": "display_data",
          "data": {
            "text/plain": [
              "<Figure size 640x480 with 1 Axes>"
            ],
            "image/png": "[encoded data removed]"
          },
          "metadata": {}
        }
      ]
    },
    {
      "cell_type": "code",
      "source": [
        "df['kilometrage_num'].value_counts(dropna=False).sort_values(ascending=False)[:8]"
      ],
      "metadata": {
        "colab": {
          "base_uri": "https://localhost:8080/",
          "height": 366
        },
        "id": "anSqWi9uqmPS",
        "outputId": "76981291-61c0-456a-cb12-7f9e4095d966"
      },
      "execution_count": null,
      "outputs": [
        {
          "output_type": "execute_result",
          "data": {
            "text/plain": [
              "kilometrage_num\n",
              "0         89601\n",
              "250000     4561\n",
              "200000     3684\n",
              "300000     3531\n",
              "220000     3283\n",
              "180000     3272\n",
              "170000     3233\n",
              "150000     3231\n",
              "Name: count, dtype: int64"
            ],
            "text/html": [
              "<div>\n",
              "<style scoped>\n",
              "    .dataframe tbody tr th:only-of-type {\n",
              "        vertical-align: middle;\n",
              "    }\n",
              "\n",
              "    .dataframe tbody tr th {\n",
              "        vertical-align: top;\n",
              "    }\n",
              "\n",
              "    .dataframe thead th {\n",
              "        text-align: right;\n",
              "    }\n",
              "</style>\n",
              "<table border=\"1\" class=\"dataframe\">\n",
              "  <thead>\n",
              "    <tr style=\"text-align: right;\">\n",
              "      <th></th>\n",
              "      <th>count</th>\n",
              "    </tr>\n",
              "    <tr>\n",
              "      <th>kilometrage_num</th>\n",
              "      <th></th>\n",
              "    </tr>\n",
              "  </thead>\n",
              "  <tbody>\n",
              "    <tr>\n",
              "      <th>0</th>\n",
              "      <td>89601</td>\n",
              "    </tr>\n",
              "    <tr>\n",
              "      <th>250000</th>\n",
              "      <td>4561</td>\n",
              "    </tr>\n",
              "    <tr>\n",
              "      <th>200000</th>\n",
              "      <td>3684</td>\n",
              "    </tr>\n",
              "    <tr>\n",
              "      <th>300000</th>\n",
              "      <td>3531</td>\n",
              "    </tr>\n",
              "    <tr>\n",
              "      <th>220000</th>\n",
              "      <td>3283</td>\n",
              "    </tr>\n",
              "    <tr>\n",
              "      <th>180000</th>\n",
              "      <td>3272</td>\n",
              "    </tr>\n",
              "    <tr>\n",
              "      <th>170000</th>\n",
              "      <td>3233</td>\n",
              "    </tr>\n",
              "    <tr>\n",
              "      <th>150000</th>\n",
              "      <td>3231</td>\n",
              "    </tr>\n",
              "  </tbody>\n",
              "</table>\n",
              "</div><br><label><b>dtype:</b> int64</label>"
            ]
          },
          "metadata": {},
          "execution_count": 213
        }
      ]
    },
    {
      "cell_type": "code",
      "source": [
        "df['datetime'].value_counts(dropna=False).sort_values(ascending=False)[:8]"
      ],
      "metadata": {
        "colab": {
          "base_uri": "https://localhost:8080/",
          "height": 366
        },
        "id": "xZsC2W94q5XU",
        "outputId": "58da996d-8733-4261-83a0-d8f9f9d73731"
      },
      "execution_count": null,
      "outputs": [
        {
          "output_type": "execute_result",
          "data": {
            "text/plain": [
              "datetime\n",
              "2024-11-25 20:21:39.009696       7863\n",
              "2024-12-05 20:22:31.547832       7714\n",
              "2024-12-22 20:22:11.501464       7655\n",
              "2024-11-21 20:21:21.748712       7576\n",
              "2024-12-01 20:23:22.540779       7533\n",
              "2024-09-29 20:44:31.452137+00    7519\n",
              "2024-12-04 20:24:03.674423       7515\n",
              "2024-11-12 20:21:01.478237       7469\n",
              "Name: count, dtype: int64"
            ],
            "text/html": [
              "<div>\n",
              "<style scoped>\n",
              "    .dataframe tbody tr th:only-of-type {\n",
              "        vertical-align: middle;\n",
              "    }\n",
              "\n",
              "    .dataframe tbody tr th {\n",
              "        vertical-align: top;\n",
              "    }\n",
              "\n",
              "    .dataframe thead th {\n",
              "        text-align: right;\n",
              "    }\n",
              "</style>\n",
              "<table border=\"1\" class=\"dataframe\">\n",
              "  <thead>\n",
              "    <tr style=\"text-align: right;\">\n",
              "      <th></th>\n",
              "      <th>count</th>\n",
              "    </tr>\n",
              "    <tr>\n",
              "      <th>datetime</th>\n",
              "      <th></th>\n",
              "    </tr>\n",
              "  </thead>\n",
              "  <tbody>\n",
              "    <tr>\n",
              "      <th>2024-11-25 20:21:39.009696</th>\n",
              "      <td>7863</td>\n",
              "    </tr>\n",
              "    <tr>\n",
              "      <th>2024-12-05 20:22:31.547832</th>\n",
              "      <td>7714</td>\n",
              "    </tr>\n",
              "    <tr>\n",
              "      <th>2024-12-22 20:22:11.501464</th>\n",
              "      <td>7655</td>\n",
              "    </tr>\n",
              "    <tr>\n",
              "      <th>2024-11-21 20:21:21.748712</th>\n",
              "      <td>7576</td>\n",
              "    </tr>\n",
              "    <tr>\n",
              "      <th>2024-12-01 20:23:22.540779</th>\n",
              "      <td>7533</td>\n",
              "    </tr>\n",
              "    <tr>\n",
              "      <th>2024-09-29 20:44:31.452137+00</th>\n",
              "      <td>7519</td>\n",
              "    </tr>\n",
              "    <tr>\n",
              "      <th>2024-12-04 20:24:03.674423</th>\n",
              "      <td>7515</td>\n",
              "    </tr>\n",
              "    <tr>\n",
              "      <th>2024-11-12 20:21:01.478237</th>\n",
              "      <td>7469</td>\n",
              "    </tr>\n",
              "  </tbody>\n",
              "</table>\n",
              "</div><br><label><b>dtype:</b> int64</label>"
            ]
          },
          "metadata": {},
          "execution_count": 218
        }
      ]
    },
    {
      "cell_type": "code",
      "source": [
        "df['extra_info'].value_counts(dropna=False).sort_values(ascending=False)[:16]"
      ],
      "metadata": {
        "colab": {
          "base_uri": "https://localhost:8080/",
          "height": 739
        },
        "id": "ErInKtHlq5hx",
        "outputId": "3b930559-fe20-4781-a8f5-ca3fee0ce1f4"
      },
      "execution_count": null,
      "outputs": [
        {
          "output_type": "execute_result",
          "data": {
            "text/plain": [
              "extra_info\n",
              "Yüngül lehimli disklər* ABS* Lyuk* Yağış sensoru* Mərkəzi qapanma* Park radarı* Kondisioner* Oturacaqların isidilməsi* Dəri salon* Ksenon lampalar* Arxa görüntü kamerası* Yan pərdələr* Oturacaqların ventilyasiyası    145259\n",
              "Yüngül lehimli disklər* ABS* Lyuk* Yağış sensoru* Mərkəzi qapanma* Park radarı* Kondisioner* Oturacaqların isidilməsi* Dəri salon* Ksenon lampalar* Arxa görüntü kamerası* Oturacaqların ventilyasiyası                   43677\n",
              "Yüngül lehimli disklər* ABS* Lyuk* Yağış sensoru* Mərkəzi qapanma* Park radarı* Kondisioner* Oturacaqların isidilməsi* Dəri salon* Ksenon lampalar* Arxa görüntü kamerası                                                 30562\n",
              "Yüngül lehimli disklər* ABS* Yağış sensoru* Mərkəzi qapanma* Park radarı* Kondisioner* Oturacaqların isidilməsi* Dəri salon* Ksenon lampalar* Arxa görüntü kamerası* Yan pərdələr* Oturacaqların ventilyasiyası           26090\n",
              "Yüngül lehimli disklər* ABS* Lyuk* Yağış sensoru* Mərkəzi qapanma* Park radarı* Kondisioner* Oturacaqların isidilməsi* Dəri salon* Ksenon lampalar* Arxa görüntü kamerası* Yan pərdələr                                   22446\n",
              "Yüngül lehimli disklər* ABS* Yağış sensoru* Mərkəzi qapanma* Park radarı* Kondisioner* Ksenon lampalar* Arxa görüntü kamerası                                                                                             11378\n",
              "Yüngül lehimli disklər* ABS* Yağış sensoru* Mərkəzi qapanma* Park radarı* Kondisioner* Oturacaqların isidilməsi* Dəri salon* Ksenon lampalar* Arxa görüntü kamerası                                                       10818\n",
              "Yüngül lehimli disklər* ABS* Yağış sensoru* Mərkəzi qapanma* Park radarı* Kondisioner* Oturacaqların isidilməsi* Dəri salon* Ksenon lampalar* Arxa görüntü kamerası* Oturacaqların ventilyasiyası                          9526\n",
              "Yüngül lehimli disklər* ABS* Mərkəzi qapanma* Kondisioner                                                                                                                                                                  8606\n",
              "Yüngül lehimli disklər* ABS* Yağış sensoru* Mərkəzi qapanma* Park radarı* Kondisioner* Oturacaqların isidilməsi* Dəri salon* Ksenon lampalar* Arxa görüntü kamerası* Yan pərdələr                                          7227\n",
              "Yüngül lehimli disklər* ABS* Yağış sensoru* Mərkəzi qapanma* Park radarı* Kondisioner* Ksenon lampalar* Arxa görüntü kamerası* Yan pərdələr                                                                                5959\n",
              "Yüngül lehimli disklər* ABS* Lyuk* Yağış sensoru* Mərkəzi qapanma* Park radarı* Kondisioner* Oturacaqların isidilməsi* Dəri salon* Arxa görüntü kamerası                                                                   5564\n",
              "Yüngül lehimli disklər                                                                                                                                                                                                     5321\n",
              "Yüngül lehimli disklər* ABS* Yağış sensoru* Mərkəzi qapanma* Park radarı* Kondisioner* Oturacaqların isidilməsi* Ksenon lampalar* Arxa görüntü kamerası* Yan pərdələr* Oturacaqların ventilyasiyası                        5316\n",
              "ABS* Mərkəzi qapanma* Kondisioner                                                                                                                                                                                          4784\n",
              "Yüngül lehimli disklər* ABS* Yağış sensoru* Mərkəzi qapanma* Park radarı* Kondisioner* Oturacaqların isidilməsi* Ksenon lampalar* Arxa görüntü kamerası                                                                    4687\n",
              "Name: count, dtype: int64"
            ],
            "text/html": [
              "<div>\n",
              "<style scoped>\n",
              "    .dataframe tbody tr th:only-of-type {\n",
              "        vertical-align: middle;\n",
              "    }\n",
              "\n",
              "    .dataframe tbody tr th {\n",
              "        vertical-align: top;\n",
              "    }\n",
              "\n",
              "    .dataframe thead th {\n",
              "        text-align: right;\n",
              "    }\n",
              "</style>\n",
              "<table border=\"1\" class=\"dataframe\">\n",
              "  <thead>\n",
              "    <tr style=\"text-align: right;\">\n",
              "      <th></th>\n",
              "      <th>count</th>\n",
              "    </tr>\n",
              "    <tr>\n",
              "      <th>extra_info</th>\n",
              "      <th></th>\n",
              "    </tr>\n",
              "  </thead>\n",
              "  <tbody>\n",
              "    <tr>\n",
              "      <th>Yüngül lehimli disklər* ABS* Lyuk* Yağış sensoru* Mərkəzi qapanma* Park radarı* Kondisioner* Oturacaqların isidilməsi* Dəri salon* Ksenon lampalar* Arxa görüntü kamerası* Yan pərdələr* Oturacaqların ventilyasiyası</th>\n",
              "      <td>145259</td>\n",
              "    </tr>\n",
              "    <tr>\n",
              "      <th>Yüngül lehimli disklər* ABS* Lyuk* Yağış sensoru* Mərkəzi qapanma* Park radarı* Kondisioner* Oturacaqların isidilməsi* Dəri salon* Ksenon lampalar* Arxa görüntü kamerası* Oturacaqların ventilyasiyası</th>\n",
              "      <td>43677</td>\n",
              "    </tr>\n",
              "    <tr>\n",
              "      <th>Yüngül lehimli disklər* ABS* Lyuk* Yağış sensoru* Mərkəzi qapanma* Park radarı* Kondisioner* Oturacaqların isidilməsi* Dəri salon* Ksenon lampalar* Arxa görüntü kamerası</th>\n",
              "      <td>30562</td>\n",
              "    </tr>\n",
              "    <tr>\n",
              "      <th>Yüngül lehimli disklər* ABS* Yağış sensoru* Mərkəzi qapanma* Park radarı* Kondisioner* Oturacaqların isidilməsi* Dəri salon* Ksenon lampalar* Arxa görüntü kamerası* Yan pərdələr* Oturacaqların ventilyasiyası</th>\n",
              "      <td>26090</td>\n",
              "    </tr>\n",
              "    <tr>\n",
              "      <th>Yüngül lehimli disklər* ABS* Lyuk* Yağış sensoru* Mərkəzi qapanma* Park radarı* Kondisioner* Oturacaqların isidilməsi* Dəri salon* Ksenon lampalar* Arxa görüntü kamerası* Yan pərdələr</th>\n",
              "      <td>22446</td>\n",
              "    </tr>\n",
              "    <tr>\n",
              "      <th>Yüngül lehimli disklər* ABS* Yağış sensoru* Mərkəzi qapanma* Park radarı* Kondisioner* Ksenon lampalar* Arxa görüntü kamerası</th>\n",
              "      <td>11378</td>\n",
              "    </tr>\n",
              "    <tr>\n",
              "      <th>Yüngül lehimli disklər* ABS* Yağış sensoru* Mərkəzi qapanma* Park radarı* Kondisioner* Oturacaqların isidilməsi* Dəri salon* Ksenon lampalar* Arxa görüntü kamerası</th>\n",
              "      <td>10818</td>\n",
              "    </tr>\n",
              "    <tr>\n",
              "      <th>Yüngül lehimli disklər* ABS* Yağış sensoru* Mərkəzi qapanma* Park radarı* Kondisioner* Oturacaqların isidilməsi* Dəri salon* Ksenon lampalar* Arxa görüntü kamerası* Oturacaqların ventilyasiyası</th>\n",
              "      <td>9526</td>\n",
              "    </tr>\n",
              "    <tr>\n",
              "      <th>Yüngül lehimli disklər* ABS* Mərkəzi qapanma* Kondisioner</th>\n",
              "      <td>8606</td>\n",
              "    </tr>\n",
              "    <tr>\n",
              "      <th>Yüngül lehimli disklər* ABS* Yağış sensoru* Mərkəzi qapanma* Park radarı* Kondisioner* Oturacaqların isidilməsi* Dəri salon* Ksenon lampalar* Arxa görüntü kamerası* Yan pərdələr</th>\n",
              "      <td>7227</td>\n",
              "    </tr>\n",
              "    <tr>\n",
              "      <th>Yüngül lehimli disklər* ABS* Yağış sensoru* Mərkəzi qapanma* Park radarı* Kondisioner* Ksenon lampalar* Arxa görüntü kamerası* Yan pərdələr</th>\n",
              "      <td>5959</td>\n",
              "    </tr>\n",
              "    <tr>\n",
              "      <th>Yüngül lehimli disklər* ABS* Lyuk* Yağış sensoru* Mərkəzi qapanma* Park radarı* Kondisioner* Oturacaqların isidilməsi* Dəri salon* Arxa görüntü kamerası</th>\n",
              "      <td>5564</td>\n",
              "    </tr>\n",
              "    <tr>\n",
              "      <th>Yüngül lehimli disklər</th>\n",
              "      <td>5321</td>\n",
              "    </tr>\n",
              "    <tr>\n",
              "      <th>Yüngül lehimli disklər* ABS* Yağış sensoru* Mərkəzi qapanma* Park radarı* Kondisioner* Oturacaqların isidilməsi* Ksenon lampalar* Arxa görüntü kamerası* Yan pərdələr* Oturacaqların ventilyasiyası</th>\n",
              "      <td>5316</td>\n",
              "    </tr>\n",
              "    <tr>\n",
              "      <th>ABS* Mərkəzi qapanma* Kondisioner</th>\n",
              "      <td>4784</td>\n",
              "    </tr>\n",
              "    <tr>\n",
              "      <th>Yüngül lehimli disklər* ABS* Yağış sensoru* Mərkəzi qapanma* Park radarı* Kondisioner* Oturacaqların isidilməsi* Ksenon lampalar* Arxa görüntü kamerası</th>\n",
              "      <td>4687</td>\n",
              "    </tr>\n",
              "  </tbody>\n",
              "</table>\n",
              "</div><br><label><b>dtype:</b> int64</label>"
            ]
          },
          "metadata": {},
          "execution_count": 224
        }
      ]
    },
    {
      "cell_type": "markdown",
      "source": [
        "# Cleaning"
      ],
      "metadata": {
        "id": "Yx-CDskd40dq"
      }
    },
    {
      "cell_type": "markdown",
      "source": [
        "Data needs to be cleaned, and the main part is dealing with missing values. As mentioned in the \"Column Visualization\" part before, data will be imputed(in a `pandas` way) regarding to its meaning."
      ],
      "metadata": {
        "id": "8IIhl5RIDmJr"
      }
    },
    {
      "cell_type": "code",
      "source": [
        "df.city.value_counts()"
      ],
      "metadata": {
        "colab": {
          "base_uri": "https://localhost:8080/",
          "height": 241
        },
        "id": "u105W-QbSGz8",
        "outputId": "fa2178fd-a89a-4e3f-93b4-e17439f169bf"
      },
      "execution_count": null,
      "outputs": [
        {
          "output_type": "execute_result",
          "data": {
            "text/plain": [
              "city\n",
              "bakı        60193\n",
              "rayon       14978\n",
              "sumqayıt     6025\n",
              "gəncə        3420\n",
              "Name: count, dtype: int64"
            ],
            "text/html": [
              "<div>\n",
              "<style scoped>\n",
              "    .dataframe tbody tr th:only-of-type {\n",
              "        vertical-align: middle;\n",
              "    }\n",
              "\n",
              "    .dataframe tbody tr th {\n",
              "        vertical-align: top;\n",
              "    }\n",
              "\n",
              "    .dataframe thead th {\n",
              "        text-align: right;\n",
              "    }\n",
              "</style>\n",
              "<table border=\"1\" class=\"dataframe\">\n",
              "  <thead>\n",
              "    <tr style=\"text-align: right;\">\n",
              "      <th></th>\n",
              "      <th>count</th>\n",
              "    </tr>\n",
              "    <tr>\n",
              "      <th>city</th>\n",
              "      <th></th>\n",
              "    </tr>\n",
              "  </thead>\n",
              "  <tbody>\n",
              "    <tr>\n",
              "      <th>bakı</th>\n",
              "      <td>60193</td>\n",
              "    </tr>\n",
              "    <tr>\n",
              "      <th>rayon</th>\n",
              "      <td>14978</td>\n",
              "    </tr>\n",
              "    <tr>\n",
              "      <th>sumqayıt</th>\n",
              "      <td>6025</td>\n",
              "    </tr>\n",
              "    <tr>\n",
              "      <th>gəncə</th>\n",
              "      <td>3420</td>\n",
              "    </tr>\n",
              "  </tbody>\n",
              "</table>\n",
              "</div><br><label><b>dtype:</b> int64</label>"
            ]
          },
          "metadata": {},
          "execution_count": 317
        }
      ]
    },
    {
      "cell_type": "code",
      "source": [
        "# columns to drop :\n",
        "df.drop(columns=['spare_parts', 'vin', 'featured', 'shop_name', 'barter', 'vip', 'owner_name',\\\n",
        "                 'Yerlərin sayı', 'description', 'engine_displacement_unit',\\\n",
        "    'kilometrage_unit', 'phone', 'car_details_id_x', 'car_rel_url', 'views', 'car_details_id_y',\\\n",
        "                 'id_x', 'currency_x', 'price_x', 'datetime_product',\\\n",
        "    'day', 'hour', 'engine_displacement_num', 'kilometrage_num', 'img_url', 'id_y', 'cars_id', 'car_rel_url_y', 'datetime', 'car_rel_url_x',\\\n",
        "             'datetime_scrape', 'updated', 'Rəng', 'Yeni', 'name', 'attributes', 'Şəhər'], inplace=True\n",
        ")\n",
        "\n",
        "# in city column, 'baki', 'gence', 'sumqayit' correspond to ~98% of data. Labeled others with same name,\n",
        "# so that data shape after preprocessing will drop down, and model predictions will be better because it will learn to generalize,\n",
        "# given the huge number of data points that belong to same class.\n",
        "df['city'] = df['city'].apply(lambda x: 'bakı' if x=='bakı' else 'sumqayıt' if x=='sumqayıt' else 'gəncə' if x=='gəncə' else 'rayon')\n",
        "\n",
        "# 25-30 samples contained sm that belong to bikes, getting rid of that will help our model, model will see only one type of it.\n",
        "df['Mühərrik'] = df[~(df['Mühərrik'].str.contains('sm'))]['Mühərrik']\n",
        "\n",
        "# dropping null values in 'Mühərrik' column.\n",
        "df.dropna(subset=['Mühərrik'], inplace=True)\n",
        "\n",
        "# feature engineering of 'Mühərrik' column. Data in this column is like : hecm/at_gucu/yanacaq.\n",
        "# these features need to be extracted.\n",
        "df['muherrik_hecm'] = df['Mühərrik'].apply(lambda x: x.split('/')[0].split(' ')[0].strip())\n",
        "df['muherrik_yanacaq'] = df['Mühərrik'].apply(lambda x: x.split('/')[-1].strip())\n",
        "\n",
        "# Yurus column is numerical(in theory), but in this case it is object type because of string next to it (e.g. 200_000 km)\n",
        "# feature engineering, splitting and pandas operations, apply, lambda, split, replace to make it numerical type.\n",
        "df['Yürüş'] = df['Yürüş'].apply(lambda x: x.split(' km')[0].replace(' ', '')).astype(int)\n",
        "\n",
        "\n",
        "# in 'extra_info' column, representation of different car specific accessories are extracted as individual features.\n",
        "df['Yüngül lehimli disklər'] = df['extra_info'].apply(lambda x: 'He' if 'Yüngül lehimli disklər' in x.split('* ') else 'Yox')\n",
        "df['ABS'] = df['extra_info'].apply(lambda x: 'He' if 'ABS' in x.split('* ') else 'Yox')\n",
        "df['Lyuk'] = df['extra_info'].apply(lambda x: 'He' if 'Lyuk' in x.split('* ') else 'Yox')\n",
        "df['Yağış sensoru'] = df['extra_info'].apply(lambda x: 'He' if 'Yağış sensoru' in x.split('* ') else 'Yox')\n",
        "df['Mərkəzi qapanma'] = df['extra_info'].apply(lambda x: 'He' if 'Mərkəzi qapanma' in x.split('* ') else 'Yox')\n",
        "df['Park radarı'] = df['extra_info'].apply(lambda x: 'He' if 'Park radarı' in x.split('* ') else 'Yox')\n",
        "df['Kondisioner'] = df['extra_info'].apply(lambda x: 'He' if 'Kondisioner' in x.split('* ') else 'Yox')\n",
        "df['Oturacaqların isidilməsi'] = df['extra_info'].apply(lambda x: 'He' if 'Oturacaqların isidilməsi' in x.split('* ') else 'Yox')\n",
        "df['Dəri salon'] = df['extra_info'].apply(lambda x: 'He' if 'Dəri salon' in x.split('* ') else 'Yox')\n",
        "df['Ksenon lampalar'] = df['extra_info'].apply(lambda x: 'He' if 'Ksenon lampalar' in x.split('* ') else 'Yox')\n",
        "df['Arxa görüntü kamerası'] = df['extra_info'].apply(lambda x: 'He' if 'Arxa görüntü kamerası' in x.split('* ') else 'Yox')\n",
        "df['Yan pərdələr'] = df['extra_info'].apply(lambda x: 'He' if 'Yan pərdələr' in x.split('* ') else 'Yox')\n",
        "df['Oturacaqların ventilyasiyası'] = df['extra_info'].apply(lambda x: 'He' if 'Oturacaqların ventilyasiyası' in x.split('* ') else 'Yox')\n",
        "\n",
        "\n",
        "# dropping columns after extracting needed features.\n",
        "if 'extra_info' in df.columns:\n",
        "  df.drop(columns=['extra_info'], inplace=True)\n",
        "\n",
        "if 'Mühərrik' in df.columns:\n",
        "  df.drop(columns=['Mühərrik'], inplace=True)\n",
        "\n",
        "# not necessary, but makes column readable.\n",
        "df['Sahiblər'] = df['Sahiblər'].replace('4 və daha çox', '4+')\n",
        "\n",
        "# currency column has 3 different values: AZN, EUR, USD. Regarding conversions are made.\n",
        "df['price'] = df[['currency_y', 'price_y']].apply(lambda row:  row['price_y']*1.7 if row['currency_y']=='USD' \\\n",
        "                                                  else row['price_y']*2 if row['currency_y']=='EUR' \\\n",
        "                                                  else row['price_y'], axis=1)\n",
        "\n",
        "# needed features were extracted, after that, columns are dropped.\n",
        "df.drop(columns=['price_y', 'currency_y', 'Buraxılış ili'], inplace=True)\n",
        "\n",
        "# filling NaN values (pandas way)\n",
        "df.loc[:, 'Qəzalı'].fillna(value='yox', inplace=True)\n",
        "df.loc[:, 'Sahiblər'].fillna(value='1', inplace=True)\n",
        "df.loc[:, 'Vəziyyəti'].fillna(value='Vuruğu yoxdur, rənglənməyib', inplace=True)\n",
        "df.loc[:, 'loan'].fillna(value='yox', inplace=True)\n",
        "df.loc[:, 'salon'].fillna(value='yox', inplace=True)\n",
        "df.loc[:, 'Hansı bazar üçün yığılıb'].fillna(value='Rəsmi diler', inplace=True)\n",
        "\n",
        "\n",
        "\n",
        "# list(df['Ban növü'].value_counts(normalize=True).sort_values(ascending=False).cumsum()[:8].index) --> Which types are mostly distributed(selected ~0.95)\n",
        "# in below code.\n",
        "\n",
        "df = df[(df['Ban növü']=='Sedan') | (df['Ban növü']=='Offroader / SUV, 5 qapı')\\\n",
        "| (df['Ban növü']=='Hetçbek, 5 qapı') | (df['Ban növü']=='Universal, 5 qapı')\\\n",
        "| (df['Ban növü']=='Liftbek') | (df['Ban növü']=='Furqon')\\\n",
        "| (df['Ban növü']=='Yük maşını') | (df['Ban növü']=='Minivan')]\n",
        "\n",
        "# engine volume max can be ~6.5 in liters, but it will be an outlier, below code kind of implements percentile(0.99)\n",
        "# muherrik_hecm column was object type\n",
        "df['muherrik_hecm'] = pd.to_numeric(df['muherrik_hecm'])\n",
        "df = df[df['muherrik_hecm']<6.5]\n",
        "\n",
        "\n",
        "# Model column has ~1300 different values, Marka ~ 140 (most of them 1-20). One-Hot Encoding them will increase number of dimensions drastically.\n",
        "# Instead, it would be favorable to choose the occurences that happen at least 51 times for Model column, and 21 times for Marka column,\n",
        "# given that these counts make up a little amount and bring outliers with them(could affect model negatively).\n",
        "# Below code does that.\n",
        "\n",
        "a = df['Model'].value_counts().to_frame()[(df['Model'].value_counts()>50)].index.to_list()\n",
        "b = df['Model'].apply(lambda x: x if x in a else -1)\n",
        "df = df[b != (-1)]\n",
        "\n",
        "\n",
        "a = df['Marka'].value_counts().to_frame()[df['Marka'].value_counts()>20].index.to_list()\n",
        "b = df['Marka'].apply(lambda x: x if x in a else -1)\n",
        "df = df[b != (-1)]\n",
        "\n"
      ],
      "metadata": {
        "id": "k9_frikUIUwS",
        "colab": {
          "base_uri": "https://localhost:8080/"
        },
        "outputId": "f0deaf83-789e-43e9-9ccc-e6a3d19bd1bf"
      },
      "execution_count": null,
      "outputs": [
        {
          "output_type": "stream",
          "name": "stderr",
          "text": [
            "<ipython-input-366-ec2f5554b9f9>:62: FutureWarning: A value is trying to be set on a copy of a DataFrame or Series through chained assignment using an inplace method.\n",
            "The behavior will change in pandas 3.0. This inplace method will never work because the intermediate object on which we are setting values always behaves as a copy.\n",
            "\n",
            "For example, when doing 'df[col].method(value, inplace=True)', try using 'df.method({col: value}, inplace=True)' or df[col] = df[col].method(value) instead, to perform the operation inplace on the original object.\n",
            "\n",
            "\n",
            "  df.loc[:, 'Qəzalı'].fillna(value='yox', inplace=True)\n",
            "<ipython-input-366-ec2f5554b9f9>:63: FutureWarning: A value is trying to be set on a copy of a DataFrame or Series through chained assignment using an inplace method.\n",
            "The behavior will change in pandas 3.0. This inplace method will never work because the intermediate object on which we are setting values always behaves as a copy.\n",
            "\n",
            "For example, when doing 'df[col].method(value, inplace=True)', try using 'df.method({col: value}, inplace=True)' or df[col] = df[col].method(value) instead, to perform the operation inplace on the original object.\n",
            "\n",
            "\n",
            "  df.loc[:, 'Sahiblər'].fillna(value='1', inplace=True)\n",
            "<ipython-input-366-ec2f5554b9f9>:64: FutureWarning: A value is trying to be set on a copy of a DataFrame or Series through chained assignment using an inplace method.\n",
            "The behavior will change in pandas 3.0. This inplace method will never work because the intermediate object on which we are setting values always behaves as a copy.\n",
            "\n",
            "For example, when doing 'df[col].method(value, inplace=True)', try using 'df.method({col: value}, inplace=True)' or df[col] = df[col].method(value) instead, to perform the operation inplace on the original object.\n",
            "\n",
            "\n",
            "  df.loc[:, 'Vəziyyəti'].fillna(value='Vuruğu yoxdur, rənglənməyib', inplace=True)\n",
            "<ipython-input-366-ec2f5554b9f9>:65: FutureWarning: A value is trying to be set on a copy of a DataFrame or Series through chained assignment using an inplace method.\n",
            "The behavior will change in pandas 3.0. This inplace method will never work because the intermediate object on which we are setting values always behaves as a copy.\n",
            "\n",
            "For example, when doing 'df[col].method(value, inplace=True)', try using 'df.method({col: value}, inplace=True)' or df[col] = df[col].method(value) instead, to perform the operation inplace on the original object.\n",
            "\n",
            "\n",
            "  df.loc[:, 'loan'].fillna(value='yox', inplace=True)\n",
            "<ipython-input-366-ec2f5554b9f9>:66: FutureWarning: A value is trying to be set on a copy of a DataFrame or Series through chained assignment using an inplace method.\n",
            "The behavior will change in pandas 3.0. This inplace method will never work because the intermediate object on which we are setting values always behaves as a copy.\n",
            "\n",
            "For example, when doing 'df[col].method(value, inplace=True)', try using 'df.method({col: value}, inplace=True)' or df[col] = df[col].method(value) instead, to perform the operation inplace on the original object.\n",
            "\n",
            "\n",
            "  df.loc[:, 'salon'].fillna(value='yox', inplace=True)\n",
            "<ipython-input-366-ec2f5554b9f9>:67: FutureWarning: A value is trying to be set on a copy of a DataFrame or Series through chained assignment using an inplace method.\n",
            "The behavior will change in pandas 3.0. This inplace method will never work because the intermediate object on which we are setting values always behaves as a copy.\n",
            "\n",
            "For example, when doing 'df[col].method(value, inplace=True)', try using 'df.method({col: value}, inplace=True)' or df[col] = df[col].method(value) instead, to perform the operation inplace on the original object.\n",
            "\n",
            "\n",
            "  df.loc[:, 'Hansı bazar üçün yığılıb'].fillna(value='Rəsmi diler', inplace=True)\n",
            "<ipython-input-366-ec2f5554b9f9>:80: SettingWithCopyWarning: \n",
            "A value is trying to be set on a copy of a slice from a DataFrame.\n",
            "Try using .loc[row_indexer,col_indexer] = value instead\n",
            "\n",
            "See the caveats in the documentation: https://pandas.pydata.org/pandas-docs/stable/user_guide/indexing.html#returning-a-view-versus-a-copy\n",
            "  df['muherrik_hecm'] = pd.to_numeric(df['muherrik_hecm'])\n"
          ]
        }
      ]
    },
    {
      "cell_type": "code",
      "source": [
        "df.shape"
      ],
      "metadata": {
        "colab": {
          "base_uri": "https://localhost:8080/"
        },
        "id": "KZ2x7x9tqrwz",
        "outputId": "f49b4bbd-1a92-458f-a7f0-e7ac4c988bd7"
      },
      "execution_count": null,
      "outputs": [
        {
          "output_type": "execute_result",
          "data": {
            "text/plain": [
              "(74237, 30)"
            ]
          },
          "metadata": {},
          "execution_count": 367
        }
      ]
    },
    {
      "cell_type": "markdown",
      "source": [
        "# Last Check"
      ],
      "metadata": {
        "id": "hHzQk1JR5CJq"
      }
    },
    {
      "cell_type": "code",
      "source": [
        "for col in df.columns:\n",
        "  print(col, '  ', df[col].value_counts().shape[0])"
      ],
      "metadata": {
        "colab": {
          "base_uri": "https://localhost:8080/"
        },
        "id": "30jkrMDtXi3d",
        "outputId": "af2a1740-f148-45ef-b3a4-e4746daff227"
      },
      "execution_count": null,
      "outputs": [
        {
          "output_type": "stream",
          "name": "stdout",
          "text": [
            "city    4\n",
            "production_year    53\n",
            "loan    2\n",
            "salon    2\n",
            "Ban növü    8\n",
            "Hansı bazar üçün yığılıb    9\n",
            "Marka    35\n",
            "Model    212\n",
            "Qəzalı    2\n",
            "Sahiblər    5\n",
            "Sürətlər qutusu    5\n",
            "Vəziyyəti    4\n",
            "Yürüş    18415\n",
            "Ötürücü    3\n",
            "muherrik_hecm    53\n",
            "muherrik_yanacaq    6\n",
            "Yüngül lehimli disklər    2\n",
            "ABS    2\n",
            "Lyuk    2\n",
            "Yağış sensoru    2\n",
            "Mərkəzi qapanma    2\n",
            "Park radarı    2\n",
            "Kondisioner    2\n",
            "Oturacaqların isidilməsi    2\n",
            "Dəri salon    2\n",
            "Ksenon lampalar    2\n",
            "Arxa görüntü kamerası    2\n",
            "Yan pərdələr    2\n",
            "Oturacaqların ventilyasiyası    2\n",
            "price    2764\n"
          ]
        }
      ]
    },
    {
      "cell_type": "code",
      "source": [
        "(df['Model'].value_counts()>100).sum()"
      ],
      "metadata": {
        "colab": {
          "base_uri": "https://localhost:8080/"
        },
        "id": "XEnERacrXx8u",
        "outputId": "8faf1792-5b83-45fd-df85-3a1758d034ef"
      },
      "execution_count": null,
      "outputs": [
        {
          "output_type": "execute_result",
          "data": {
            "text/plain": [
              "144"
            ]
          },
          "metadata": {},
          "execution_count": 377
        }
      ]
    },
    {
      "cell_type": "code",
      "source": [
        "(df['Model'].value_counts(normalize=True).sort_values().cumsum()>0.20).sum()"
      ],
      "metadata": {
        "colab": {
          "base_uri": "https://localhost:8080/"
        },
        "id": "vZ81yeaeX1PB",
        "outputId": "89b2089e-ca5a-46a5-d802-28bcff179d84"
      },
      "execution_count": null,
      "outputs": [
        {
          "output_type": "execute_result",
          "data": {
            "text/plain": [
              "76"
            ]
          },
          "metadata": {},
          "execution_count": 378
        }
      ]
    },
    {
      "cell_type": "code",
      "source": [
        "df['Model'].value_counts().sort_values(ascending=False)[:40].plot.bar(figsize=(12, 6))"
      ],
      "metadata": {
        "colab": {
          "base_uri": "https://localhost:8080/",
          "height": 705
        },
        "id": "M-2MEsoLXy0i",
        "outputId": "3238bcfa-c9e3-4052-bb21-054039d3d51a"
      },
      "execution_count": null,
      "outputs": [
        {
          "output_type": "execute_result",
          "data": {
            "text/plain": [
              "<Axes: xlabel='Model'>"
            ]
          },
          "metadata": {},
          "execution_count": 379
        },
        {
          "output_type": "display_data",
          "data": {
            "text/plain": [
              "<Figure size 1200x600 with 1 Axes>"
            ],
            "image/png": "[encoded data removed]"
          },
          "metadata": {}
        }
      ]
    },
    {
      "cell_type": "code",
      "source": [
        "df.shape"
      ],
      "metadata": {
        "colab": {
          "base_uri": "https://localhost:8080/"
        },
        "id": "2JjcLHVIINOd",
        "outputId": "a27d1b86-da95-4efb-f577-8b996e5da0e0"
      },
      "execution_count": null,
      "outputs": [
        {
          "output_type": "execute_result",
          "data": {
            "text/plain": [
              "(74237, 30)"
            ]
          },
          "metadata": {},
          "execution_count": 368
        }
      ]
    },
    {
      "cell_type": "code",
      "source": [
        "df.columns"
      ],
      "metadata": {
        "colab": {
          "base_uri": "https://localhost:8080/"
        },
        "id": "O0_DLb-14asj",
        "outputId": "a877fe55-b347-4f8a-90e3-416db33b7d11"
      },
      "execution_count": null,
      "outputs": [
        {
          "output_type": "execute_result",
          "data": {
            "text/plain": [
              "Index(['city', 'production_year', 'loan', 'salon', 'Ban növü',\n",
              "       'Hansı bazar üçün yığılıb', 'Marka', 'Model', 'Qəzalı', 'Sahiblər',\n",
              "       'Sürətlər qutusu', 'Vəziyyəti', 'Yürüş', 'Ötürücü', 'muherrik_hecm',\n",
              "       'muherrik_yanacaq', 'Yüngül lehimli disklər', 'ABS', 'Lyuk',\n",
              "       'Yağış sensoru', 'Mərkəzi qapanma', 'Park radarı', 'Kondisioner',\n",
              "       'Oturacaqların isidilməsi', 'Dəri salon', 'Ksenon lampalar',\n",
              "       'Arxa görüntü kamerası', 'Yan pərdələr', 'Oturacaqların ventilyasiyası',\n",
              "       'price'],\n",
              "      dtype='object')"
            ]
          },
          "metadata": {},
          "execution_count": 369
        }
      ]
    },
    {
      "cell_type": "code",
      "source": [
        "list(df['Ban növü'].value_counts(normalize=True).sort_values(ascending=False).cumsum()[:8].index)\n",
        "\n",
        "# This is the list of mostly distributed (~95%) vehicle types. Removing the outliers will enhance the performance."
      ],
      "metadata": {
        "colab": {
          "base_uri": "https://localhost:8080/"
        },
        "id": "c16KbdAISKnU",
        "outputId": "22cf6ea1-f639-47d5-b1ca-0278f1e3a7a3"
      },
      "execution_count": null,
      "outputs": [
        {
          "output_type": "execute_result",
          "data": {
            "text/plain": [
              "['Sedan',\n",
              " 'Offroader / SUV, 5 qapı',\n",
              " 'Hetçbek, 5 qapı',\n",
              " 'Universal, 5 qapı',\n",
              " 'Liftbek',\n",
              " 'Furqon',\n",
              " 'Minivan',\n",
              " 'Yük maşını']"
            ]
          },
          "metadata": {},
          "execution_count": 370
        }
      ]
    },
    {
      "cell_type": "code",
      "source": [
        "df.isna().sum()"
      ],
      "metadata": {
        "colab": {
          "base_uri": "https://localhost:8080/",
          "height": 1000
        },
        "id": "9k-tMq2g4Xtp",
        "outputId": "6b9468de-c28c-46ae-94cb-df1f076a67b1"
      },
      "execution_count": null,
      "outputs": [
        {
          "output_type": "execute_result",
          "data": {
            "text/plain": [
              "city                            0\n",
              "production_year                 0\n",
              "loan                            0\n",
              "salon                           0\n",
              "Ban növü                        0\n",
              "Hansı bazar üçün yığılıb        0\n",
              "Marka                           0\n",
              "Model                           0\n",
              "Qəzalı                          0\n",
              "Sahiblər                        0\n",
              "Sürətlər qutusu                 0\n",
              "Vəziyyəti                       0\n",
              "Yürüş                           0\n",
              "Ötürücü                         0\n",
              "muherrik_hecm                   0\n",
              "muherrik_yanacaq                0\n",
              "Yüngül lehimli disklər          0\n",
              "ABS                             0\n",
              "Lyuk                            0\n",
              "Yağış sensoru                   0\n",
              "Mərkəzi qapanma                 0\n",
              "Park radarı                     0\n",
              "Kondisioner                     0\n",
              "Oturacaqların isidilməsi        0\n",
              "Dəri salon                      0\n",
              "Ksenon lampalar                 0\n",
              "Arxa görüntü kamerası           0\n",
              "Yan pərdələr                    0\n",
              "Oturacaqların ventilyasiyası    0\n",
              "price                           0\n",
              "dtype: int64"
            ],
            "text/html": [
              "<div>\n",
              "<style scoped>\n",
              "    .dataframe tbody tr th:only-of-type {\n",
              "        vertical-align: middle;\n",
              "    }\n",
              "\n",
              "    .dataframe tbody tr th {\n",
              "        vertical-align: top;\n",
              "    }\n",
              "\n",
              "    .dataframe thead th {\n",
              "        text-align: right;\n",
              "    }\n",
              "</style>\n",
              "<table border=\"1\" class=\"dataframe\">\n",
              "  <thead>\n",
              "    <tr style=\"text-align: right;\">\n",
              "      <th></th>\n",
              "      <th>0</th>\n",
              "    </tr>\n",
              "  </thead>\n",
              "  <tbody>\n",
              "    <tr>\n",
              "      <th>city</th>\n",
              "      <td>0</td>\n",
              "    </tr>\n",
              "    <tr>\n",
              "      <th>production_year</th>\n",
              "      <td>0</td>\n",
              "    </tr>\n",
              "    <tr>\n",
              "      <th>loan</th>\n",
              "      <td>0</td>\n",
              "    </tr>\n",
              "    <tr>\n",
              "      <th>salon</th>\n",
              "      <td>0</td>\n",
              "    </tr>\n",
              "    <tr>\n",
              "      <th>Ban növü</th>\n",
              "      <td>0</td>\n",
              "    </tr>\n",
              "    <tr>\n",
              "      <th>Hansı bazar üçün yığılıb</th>\n",
              "      <td>0</td>\n",
              "    </tr>\n",
              "    <tr>\n",
              "      <th>Marka</th>\n",
              "      <td>0</td>\n",
              "    </tr>\n",
              "    <tr>\n",
              "      <th>Model</th>\n",
              "      <td>0</td>\n",
              "    </tr>\n",
              "    <tr>\n",
              "      <th>Qəzalı</th>\n",
              "      <td>0</td>\n",
              "    </tr>\n",
              "    <tr>\n",
              "      <th>Sahiblər</th>\n",
              "      <td>0</td>\n",
              "    </tr>\n",
              "    <tr>\n",
              "      <th>Sürətlər qutusu</th>\n",
              "      <td>0</td>\n",
              "    </tr>\n",
              "    <tr>\n",
              "      <th>Vəziyyəti</th>\n",
              "      <td>0</td>\n",
              "    </tr>\n",
              "    <tr>\n",
              "      <th>Yürüş</th>\n",
              "      <td>0</td>\n",
              "    </tr>\n",
              "    <tr>\n",
              "      <th>Ötürücü</th>\n",
              "      <td>0</td>\n",
              "    </tr>\n",
              "    <tr>\n",
              "      <th>muherrik_hecm</th>\n",
              "      <td>0</td>\n",
              "    </tr>\n",
              "    <tr>\n",
              "      <th>muherrik_yanacaq</th>\n",
              "      <td>0</td>\n",
              "    </tr>\n",
              "    <tr>\n",
              "      <th>Yüngül lehimli disklər</th>\n",
              "      <td>0</td>\n",
              "    </tr>\n",
              "    <tr>\n",
              "      <th>ABS</th>\n",
              "      <td>0</td>\n",
              "    </tr>\n",
              "    <tr>\n",
              "      <th>Lyuk</th>\n",
              "      <td>0</td>\n",
              "    </tr>\n",
              "    <tr>\n",
              "      <th>Yağış sensoru</th>\n",
              "      <td>0</td>\n",
              "    </tr>\n",
              "    <tr>\n",
              "      <th>Mərkəzi qapanma</th>\n",
              "      <td>0</td>\n",
              "    </tr>\n",
              "    <tr>\n",
              "      <th>Park radarı</th>\n",
              "      <td>0</td>\n",
              "    </tr>\n",
              "    <tr>\n",
              "      <th>Kondisioner</th>\n",
              "      <td>0</td>\n",
              "    </tr>\n",
              "    <tr>\n",
              "      <th>Oturacaqların isidilməsi</th>\n",
              "      <td>0</td>\n",
              "    </tr>\n",
              "    <tr>\n",
              "      <th>Dəri salon</th>\n",
              "      <td>0</td>\n",
              "    </tr>\n",
              "    <tr>\n",
              "      <th>Ksenon lampalar</th>\n",
              "      <td>0</td>\n",
              "    </tr>\n",
              "    <tr>\n",
              "      <th>Arxa görüntü kamerası</th>\n",
              "      <td>0</td>\n",
              "    </tr>\n",
              "    <tr>\n",
              "      <th>Yan pərdələr</th>\n",
              "      <td>0</td>\n",
              "    </tr>\n",
              "    <tr>\n",
              "      <th>Oturacaqların ventilyasiyası</th>\n",
              "      <td>0</td>\n",
              "    </tr>\n",
              "    <tr>\n",
              "      <th>price</th>\n",
              "      <td>0</td>\n",
              "    </tr>\n",
              "  </tbody>\n",
              "</table>\n",
              "</div><br><label><b>dtype:</b> int64</label>"
            ]
          },
          "metadata": {},
          "execution_count": 371
        }
      ]
    },
    {
      "cell_type": "markdown",
      "source": [
        "# Model preparation"
      ],
      "metadata": {
        "id": "p-zLq3jr5Ic9"
      }
    },
    {
      "cell_type": "code",
      "source": [
        "# data and labels\n",
        "\n",
        "X = df.drop('price', axis=1)\n",
        "y = df['price']"
      ],
      "metadata": {
        "id": "u3H0aV_-xs3a"
      },
      "execution_count": null,
      "outputs": []
    },
    {
      "cell_type": "code",
      "source": [
        "# importing needed libraries\n",
        "from sklearn.model_selection import train_test_split   # train-test\n",
        "from sklearn.pipeline import Pipeline   # pipeline\n",
        "from sklearn.compose import ColumnTransformer   # ColumnTransformer (making data ready to go into a model)\n",
        "from sklearn.preprocessing import OneHotEncoder, StandardScaler, PolynomialFeatures   # preprocessing steps for numerical and categorical data\n",
        "from sklearn.linear_model import LinearRegression   # base model 2\n",
        "from sklearn.tree import DecisionTreeRegressor   # base model 1\n",
        "from sklearn.ensemble import RandomForestRegressor   # stronger ensemble model\n",
        "from sklearn.metrics import r2_score, mean_squared_error   # metrics (R^2 and mean squared error, at following lines I will introduce root mean squared error)\n",
        "from lightgbm import LGBMRegressor\n",
        "\n",
        "\n",
        "# all columns.\n",
        "cols = X.columns\n",
        "\n",
        "# numerical and categorical columns.\n",
        "num_cols = ['muherrik_hecm', 'production_year', 'Yürüş']\n",
        "cat_cols = list(set(X.columns).difference(set(num_cols)))\n",
        "\n",
        "\n",
        "\n",
        "# using PolynomialFeatures in a pipeline with second degree and without bias.\n",
        "num_pipe_lin_reg = Pipeline(\n",
        "    [\n",
        "        ('poly', PolynomialFeatures(degree=2, include_bias=False)),\n",
        "        ('scaler', StandardScaler())\n",
        "    ]\n",
        ")\n",
        "\n",
        "\n",
        "\n",
        "# ColumnTransformer instance. Specifying pipeline and columns for linear regression model.\n",
        "ct = ColumnTransformer(\n",
        "    [\n",
        "        ('cat', OneHotEncoder(sparse_output=False, handle_unknown='ignore'), cat_cols),\n",
        "        ('num', num_pipe_lin_reg, num_cols)\n",
        "    ]\n",
        ")\n",
        "\n",
        "\n",
        "# ColumnTransformer for tree based models\n",
        "ct_tree = ColumnTransformer(\n",
        "    [\n",
        "        ('cat', OneHotEncoder(sparse_output=False, handle_unknown='ignore'), cat_cols)\n",
        "    ], remainder='passthrough'\n",
        ")\n",
        "# Tree based models do not need scaling of numerical data.\n",
        "\n",
        "\n",
        "# train-test splitting.\n",
        "X_train, X_test, y_train, y_test = train_test_split(X, y, test_size=0.3, random_state=42)\n",
        "\n",
        "\n",
        "# specifying (preprocessing + model) steps in pipelines\n",
        "ct_dtr = Pipeline(\n",
        "    [\n",
        "        ('ct', ct_tree),\n",
        "        ('model', DecisionTreeRegressor())\n",
        "    ]\n",
        ")\n",
        "\n",
        "ct_rfr = Pipeline(\n",
        "    [\n",
        "        ('ct', ct_tree),\n",
        "        ('model', RandomForestRegressor(n_jobs=-1))\n",
        "    ]\n",
        ")\n",
        "\n",
        "\n",
        "\n",
        "ct_lin_reg = Pipeline(\n",
        "    [\n",
        "        ('ct', ct),\n",
        "        ('model', LinearRegression())\n",
        "    ]\n",
        ")\n",
        "\n",
        "\n",
        "ct_lgbm_reg = Pipeline(\n",
        "    [\n",
        "        ('ct', ct_tree),\n",
        "        ('model', LGBMRegressor(n_jobs=-1))\n",
        "    ]\n",
        ")\n",
        "\n",
        "\n",
        "\n",
        "\n",
        "\n",
        "# making a dict will be useful, they all will be used the same way (fitting, predicting, scoring)\n",
        "name_model_dict = {\n",
        "    'LightGBMRegressor': ct_lgbm_reg,\n",
        "    'Decision Tree Regressor': ct_dtr,\n",
        "    'Random Forest Regressor': ct_rfr,\n",
        "    'Linear Regression': ct_lin_reg\n",
        "              }\n",
        "\n",
        "\n",
        "\n",
        "print('Train-Test scores and model evaluation', '\\n'*3)\n",
        "\n",
        "# evaluating the model scores: R^2, MSE, RMSE, and plotting 10 most important features for each model.\n",
        "# For tree based models, feature importances are a representation of splitting criteria of the data. Meaning that higher the value of a feature importance,\n",
        "# better the importance of splitting criteria.\n",
        "\n",
        "for name, model in name_model_dict.items():   # iterating through the dictionary that was introduced above\n",
        "  if name != 'Linear Regression':\n",
        "    print(name, '\\n'*2)\n",
        "    model.fit(X_train, y_train)   # fitting\n",
        "    model_mse = mean_squared_error(y_test, model.predict(X_test))  # Mean Squared Error\n",
        "    print(f'{name} R^2 score on test data: {model.score(X_test, y_test)}', '\\n')   # model.score() returns R^2 score as default for regression.\n",
        "    print(f'{name} MSE: {model_mse}', '\\n')\n",
        "    print(f'{name} RMSE: {np.sqrt(model_mse)}', '\\n'*3)   # RMSE = MSE**0.5\n",
        "    print(f'Visualization of 20 most important features for {name}:', '\\n'*3)\n",
        "    feat_ = model.steps[0][1].get_feature_names_out()\n",
        "    # pipeline.steps returns 2 objects,\n",
        "    # each having a string name and object. Index accessing will return their methods and attributes.\n",
        "\n",
        "    if name == 'LightGBMRegressor':\n",
        "      imp_ = model.steps[1][1].feature_importances_ / 1_000  # LGBMRegressor gives 1_000 times greater than its original value\n",
        "    else:\n",
        "      imp_ = model.steps[1][1].feature_importances_\n",
        "\n",
        "    # Creating DataFrame to plot\n",
        "    data = pd.DataFrame(index=feat_, data=imp_, columns=['values']).sort_values(by='values', ascending=False).head(20)\n",
        "    data.plot.barh()\n",
        "    plt.show()\n",
        "    print('\\n'*4)\n",
        "\n",
        "\n",
        "  else:\n",
        "    print(name, '\\n'*2)\n",
        "    model.fit(X_train, y_train)\n",
        "    model_mse = mean_squared_error(y_test, model.predict(X_test))\n",
        "    print(f'{name} R^2 score on test data: {model.score(X_test, y_test)}', '\\n')\n",
        "    print(f'{name} MSE: {model_mse}', '\\n')\n",
        "    print(f'{name} RMSE: {np.sqrt(model_mse)}')\n",
        "    feat_ = model.steps[0][1].get_feature_names_out()\n",
        "    imp_ = np.abs(model.steps[1][1].coef_)\n",
        "    # For Linear Regression, feature importance can be thought as columns\n",
        "    # that have the largest coefficient (naturally, they will have greater contribution to the output number),\n",
        "    # given that they are in the same scale.\n",
        "\n",
        "    print('Which features have a strong impact on the output of trained Linear Regression method: ', '\\n')\n",
        "    data = pd.DataFrame(index=feat_, data=imp_, columns=['values']).sort_values(by='values', ascending=False).head(20)\n",
        "    data.plot.barh()\n",
        "    plt.show()\n",
        "\n",
        "\n",
        "\n"
      ],
      "metadata": {
        "id": "VYoVamkJ5DAL",
        "colab": {
          "base_uri": "https://localhost:8080/",
          "height": 1000
        },
        "outputId": "79d15181-7e56-46ea-ce9e-d2299f29ea40"
      },
      "execution_count": null,
      "outputs": [
        {
          "output_type": "stream",
          "name": "stdout",
          "text": [
            "Train-Test scores and model evaluation \n",
            "\n",
            "\n",
            "\n",
            "LightGBMRegressor \n",
            "\n",
            "\n"
          ]
        },
        {
          "output_type": "stream",
          "name": "stderr",
          "text": [
            "/usr/local/lib/python3.11/dist-packages/sklearn/utils/deprecation.py:151: FutureWarning: 'force_all_finite' was renamed to 'ensure_all_finite' in 1.6 and will be removed in 1.8.\n",
            "  warnings.warn(\n"
          ]
        },
        {
          "output_type": "stream",
          "name": "stdout",
          "text": [
            "[LightGBM] [Info] Auto-choosing row-wise multi-threading, the overhead of testing was 0.025928 seconds.\n",
            "You can set `force_row_wise=true` to remove the overhead.\n",
            "And if memory is not enough, you can set `force_col_wise=true`.\n",
            "[LightGBM] [Info] Total Bins 996\n",
            "[LightGBM] [Info] Number of data points in the train set: 51965, number of used features: 325\n",
            "[LightGBM] [Info] Start training from score 23131.726221\n"
          ]
        },
        {
          "output_type": "stream",
          "name": "stderr",
          "text": [
            "/usr/local/lib/python3.11/dist-packages/sklearn/utils/deprecation.py:151: FutureWarning: 'force_all_finite' was renamed to 'ensure_all_finite' in 1.6 and will be removed in 1.8.\n",
            "  warnings.warn(\n",
            "/usr/local/lib/python3.11/dist-packages/sklearn/utils/deprecation.py:151: FutureWarning: 'force_all_finite' was renamed to 'ensure_all_finite' in 1.6 and will be removed in 1.8.\n",
            "  warnings.warn(\n"
          ]
        },
        {
          "output_type": "stream",
          "name": "stdout",
          "text": [
            "LightGBMRegressor R^2 score on test data: 0.9497361812936905 \n",
            "\n",
            "LightGBMRegressor MSE: 39527596.607185476 \n",
            "\n",
            "LightGBMRegressor RMSE: 6287.097629843637 \n",
            "\n",
            "\n",
            "\n",
            "Visualization of 20 most important features for LightGBMRegressor: \n",
            "\n",
            "\n",
            "\n"
          ]
        },
        {
          "output_type": "display_data",
          "data": {
            "text/plain": [
              "<Figure size 640x480 with 1 Axes>"
            ],
            "image/png": "[encoded data removed]"
          },
          "metadata": {}
        },
        {
          "output_type": "stream",
          "name": "stdout",
          "text": [
            "\n",
            "\n",
            "\n",
            "\n",
            "\n",
            "Decision Tree Regressor \n",
            "\n",
            "\n",
            "Decision Tree Regressor R^2 score on test data: 0.9259587629447256 \n",
            "\n",
            "Decision Tree Regressor MSE: 58226219.693302155 \n",
            "\n",
            "Decision Tree Regressor RMSE: 7630.610702512752 \n",
            "\n",
            "\n",
            "\n",
            "Visualization of 20 most important features for Decision Tree Regressor: \n",
            "\n",
            "\n",
            "\n"
          ]
        },
        {
          "output_type": "display_data",
          "data": {
            "text/plain": [
              "<Figure size 640x480 with 1 Axes>"
            ],
            "image/png": "[encoded data removed]"
          },
          "metadata": {}
        },
        {
          "output_type": "stream",
          "name": "stdout",
          "text": [
            "\n",
            "\n",
            "\n",
            "\n",
            "\n",
            "Random Forest Regressor \n",
            "\n",
            "\n",
            "Random Forest Regressor R^2 score on test data: 0.9557668794808833 \n",
            "\n",
            "Random Forest Regressor MSE: 34785040.006066754 \n",
            "\n",
            "Random Forest Regressor RMSE: 5897.884366963018 \n",
            "\n",
            "\n",
            "\n",
            "Visualization of 20 most important features for Random Forest Regressor: \n",
            "\n",
            "\n",
            "\n"
          ]
        },
        {
          "output_type": "display_data",
          "data": {
            "text/plain": [
              "<Figure size 640x480 with 1 Axes>"
            ],
            "image/png": "[encoded data removed]"
          },
          "metadata": {}
        },
        {
          "output_type": "stream",
          "name": "stdout",
          "text": [
            "\n",
            "\n",
            "\n",
            "\n",
            "\n",
            "Linear Regression \n",
            "\n",
            "\n",
            "Linear Regression R^2 score on test data: 0.7985373902395821 \n",
            "\n",
            "Linear Regression MSE: 158430715.67184803 \n",
            "\n",
            "Linear Regression RMSE: 12586.92637905887\n",
            "Which features have a strong impact on the output of trained Linear Regression method:  \n",
            "\n"
          ]
        },
        {
          "output_type": "display_data",
          "data": {
            "text/plain": [
              "<Figure size 640x480 with 1 Axes>"
            ],
            "image/png": "[encoded data removed]"
          },
          "metadata": {}
        }
      ]
    },
    {
      "cell_type": "markdown",
      "source": [
        "## Which models were used and why"
      ],
      "metadata": {
        "id": "XgJR0W7OZ5CC"
      }
    },
    {
      "cell_type": "markdown",
      "source": [
        "I used Regression models for this task, namely:\n",
        "\\\n",
        "\\\n",
        "Linear, Decision Tree, LightGBM, and Random Forest.\n",
        "\\\n",
        "\\\n",
        "Linear ---> Simple to interpret, intuitive, time complexity is okay, if there's a need for non-linear relationships, polynomial features can be introduced, provides a little flexibility.\n",
        "\\\n",
        "\\\n",
        "Decision Tree ---> Time complexity is okay, can obtain feature_importances, does not need scaling of numerical data, can understand complex relationships.\n",
        "\\\n",
        "\\\n",
        "\\\n",
        "LightGBM ---> Uses Gradient Boosting algorithm(each tree minimizes the error of the previous tree), **FAST**, so many hyperparameters\n",
        "\\\n",
        "      following comes from Decision Trees as a base model: can obtain feature_importances, does not need scaling of numerical data, can understand complex relationships\n",
        "\\\n",
        "\\\n",
        "\\\n",
        "Random Forest ---> Best model so far. Uses Bagging, base estimators are Decision Trees, against overfitting, scalable,\n",
        "\\\n",
        "      following comes from Decision Trees as a base model: can obtain feature_importances, does not need scaling of numerical data, can understand complex relationships\n"
      ],
      "metadata": {
        "id": "2gfFqfANZFzs"
      }
    },
    {
      "cell_type": "markdown",
      "source": [
        "# Cross - Validation"
      ],
      "metadata": {
        "id": "nL3uswhBJvAQ"
      }
    },
    {
      "cell_type": "code",
      "source": [
        "# importing libraries for cross_val\n",
        "from sklearn.model_selection import cross_validate\n",
        "\n",
        "\n",
        "print('Cross Validation', '\\n', '3 Fold Cross Validation', '\\n'*3)\n",
        "\n",
        "# cross validation\n",
        "for name, model in name_model_dict.items():\n",
        "  print(name, '\\n')\n",
        "  cross_val = cross_validate(model, X, y, cv=3, n_jobs=-1, scoring=['r2', 'neg_root_mean_squared_error'])\n",
        "  print(f'cross validation scores: {cross_val}', '\\n'*3)"
      ],
      "metadata": {
        "colab": {
          "base_uri": "https://localhost:8080/"
        },
        "id": "mOF9Xupxq6DW",
        "outputId": "42193a38-d483-453e-89da-4469d31c9b0d"
      },
      "execution_count": null,
      "outputs": [
        {
          "output_type": "stream",
          "name": "stdout",
          "text": [
            "Cross Validation \n",
            " 3 Fold Cross Validation \n",
            "\n",
            "\n",
            "\n",
            "LightGBMRegressor \n",
            "\n",
            "cross validation scores: {'fit_time': array([7.2353425 , 6.41520643, 1.7558248 ]), 'score_time': array([0.61951947, 0.64321256, 0.39065886]), 'test_r2': array([0.96106842, 0.95589656, 0.95486048]), 'test_neg_root_mean_squared_error': array([-5111.16067712, -5317.43970812, -5533.88263837])} \n",
            "\n",
            "\n",
            "\n",
            "Decision Tree Regressor \n",
            "\n",
            "cross validation scores: {'fit_time': array([4.74254608, 4.70814967, 3.78527021]), 'score_time': array([0.4446528 , 0.437567  , 0.27348828]), 'test_r2': array([0.92423773, 0.93888582, 0.92495232]), 'test_neg_root_mean_squared_error': array([-7130.0900902 , -6259.46623115, -7135.42923931])} \n",
            "\n",
            "\n",
            "\n",
            "Random Forest Regressor \n",
            "\n",
            "cross validation scores: {'fit_time': array([324.3041842 , 323.59752417, 157.20605731]), 'score_time': array([2.92317915, 2.8986721 , 1.28478241]), 'test_r2': array([0.96257245, 0.96150875, 0.9600716 ]), 'test_neg_root_mean_squared_error': array([-5011.4598732 , -4967.60810493, -5204.66082592])} \n",
            "\n",
            "\n",
            "\n",
            "Linear Regression \n",
            "\n"
          ]
        },
        {
          "output_type": "stream",
          "name": "stderr",
          "text": [
            "/usr/local/lib/python3.11/dist-packages/joblib/externals/loky/process_executor.py:752: UserWarning: A worker stopped while some jobs were given to the executor. This can be caused by a too short worker timeout or by a memory leak.\n",
            "  warnings.warn(\n"
          ]
        },
        {
          "output_type": "stream",
          "name": "stdout",
          "text": [
            "cross validation scores: {'fit_time': array([3.09998846, 4.18045998, 4.83245373]), 'score_time': array([0.40438366, 0.76088262, 0.3947351 ]), 'test_r2': array([0.79894583, 0.82388259, 0.81629634]), 'test_neg_root_mean_squared_error': array([-11615.1567183 , -10625.94264193, -11163.75684091])} \n",
            "\n",
            "\n",
            "\n"
          ]
        }
      ]
    },
    {
      "cell_type": "markdown",
      "source": [
        "## Used metrics and their meaning"
      ],
      "metadata": {
        "id": "LZoQeo8hZ9nv"
      }
    },
    {
      "cell_type": "markdown",
      "source": [
        "Used metrics:\n",
        "\\\n",
        "R^2, neg_root_mean_squared_error\n",
        "\\\n",
        "\\\n",
        "R^2 - - - -> Shows how close the predicted values are to the actual values\n",
        "\\\n",
        "1 - - great\n",
        "\\\n",
        "0 - - bad\n",
        "\\\n",
        "less than 0 - -very bad\n",
        "\\\n",
        "\\\n",
        "'neg_root_mean_squared_error' shows negative value of root mean squared error\n",
        "\\\n",
        "\\\n",
        "root mean squared error = ( 1 / N ) * ( y ( predicted ) - y ( actual ) ) ^ 2"
      ],
      "metadata": {
        "id": "eRd4oczDGw0a"
      }
    },
    {
      "cell_type": "markdown",
      "source": [
        "# Hyperparameter - tuning\n",
        "\n"
      ],
      "metadata": {
        "id": "kkGnZ2pdIrYU"
      }
    },
    {
      "cell_type": "code",
      "source": [
        "from sklearn.model_selection import GridSearchCV\n",
        "\n",
        "params_random_forest = {\n",
        "    'model__n_jobs': [-1],\n",
        "    'model__n_estimators': [100, 200],\n",
        "    'model__min_samples_split': [2, 10],\n",
        "    'model__max_depth': [50, 100, None],\n",
        "    'model__max_features': ['sqrt', 'log2']\n",
        "}\n",
        "\n",
        "params_lgbm = {\n",
        "    'model__learning_rate': [0.01, 0.1],\n",
        "    'model__n_estimators': [100, 200],\n",
        "    'model__max_depth': [-1, 5, 10],\n",
        "    'model__min_child_samples': [10, 20],\n",
        "    'model__subsample': [0.8, 1.0],\n",
        "    'model__n_jobs': [-1]\n",
        "}\n",
        "\n",
        "grid_search_lgbm = GridSearchCV(estimator=ct_lgbm_reg,\n",
        "                           param_grid=params_lgbm,\n",
        "                           cv=3,\n",
        "                           n_jobs=-1,\n",
        "                           scoring='neg_root_mean_squared_error')\n",
        "\n",
        "\n",
        "grid_search_random_forest = GridSearchCV(estimator=ct_rfr,\n",
        "                           param_grid=params_random_forest,\n",
        "                           cv=3,\n",
        "                           n_jobs=-1,\n",
        "                           scoring='neg_root_mean_squared_error')\n",
        "\n",
        "\n",
        "\n",
        "grid_search_lgbm.fit(X_train, y_train)\n",
        "print('LightGBMRegressor best params given the param_grid by GridSearchCV:', '\\n', grid_search_lgbm.best_params_, '\\n'*4)\n",
        "print('LightGBMRegressor best score on test data given the param_grid by GridSearchCV:', '\\n', grid_search_lgbm.score(X_test, y_test), '\\n'*4)\n",
        "\n",
        "grid_search_random_forest.fit(X_train, y_train)\n",
        "print('Random Forest Regressor best params given the param_grid by GridSearchCV:', '\\n', grid_search_random_forest.best_params_, '\\n'*4)\n",
        "print('Random Forest Regressor best score on test data given the param_grid by GridSearchCV:', '\\n',grid_search_random_forest.score(X_test, y_test))"
      ],
      "metadata": {
        "id": "tePbxQ9pfYCM",
        "colab": {
          "base_uri": "https://localhost:8080/"
        },
        "outputId": "9585bd57-c951-4154-b797-6d54b00e0844"
      },
      "execution_count": null,
      "outputs": [
        {
          "output_type": "stream",
          "name": "stderr",
          "text": [
            "/usr/local/lib/python3.11/dist-packages/sklearn/utils/deprecation.py:151: FutureWarning: 'force_all_finite' was renamed to 'ensure_all_finite' in 1.6 and will be removed in 1.8.\n",
            "  warnings.warn(\n"
          ]
        },
        {
          "output_type": "stream",
          "name": "stdout",
          "text": [
            "[LightGBM] [Info] Auto-choosing row-wise multi-threading, the overhead of testing was 0.013793 seconds.\n",
            "You can set `force_row_wise=true` to remove the overhead.\n",
            "And if memory is not enough, you can set `force_col_wise=true`.\n",
            "[LightGBM] [Info] Total Bins 996\n",
            "[LightGBM] [Info] Number of data points in the train set: 51965, number of used features: 325\n",
            "[LightGBM] [Info] Start training from score 23131.726221\n",
            "LightGBMRegressor best params given the param_grid by GridSearchCV: \n",
            " {'model__learning_rate': 0.1, 'model__max_depth': -1, 'model__min_child_samples': 20, 'model__n_estimators': 200, 'model__n_jobs': -1, 'model__subsample': 0.8} \n",
            "\n",
            "\n",
            "\n",
            "\n"
          ]
        },
        {
          "output_type": "stream",
          "name": "stderr",
          "text": [
            "/usr/local/lib/python3.11/dist-packages/sklearn/utils/deprecation.py:151: FutureWarning: 'force_all_finite' was renamed to 'ensure_all_finite' in 1.6 and will be removed in 1.8.\n",
            "  warnings.warn(\n"
          ]
        },
        {
          "output_type": "stream",
          "name": "stdout",
          "text": [
            "LightGBMRegressor best score on test data given the param_grid by GridSearchCV: \n",
            " -6016.075903416279 \n",
            "\n",
            "\n",
            "\n",
            "\n"
          ]
        },
        {
          "output_type": "stream",
          "name": "stderr",
          "text": [
            "/usr/local/lib/python3.11/dist-packages/joblib/externals/loky/process_executor.py:752: UserWarning: A worker stopped while some jobs were given to the executor. This can be caused by a too short worker timeout or by a memory leak.\n",
            "  warnings.warn(\n"
          ]
        },
        {
          "output_type": "stream",
          "name": "stdout",
          "text": [
            "Random Forest Regressor best params given the param_grid by GridSearchCV: \n",
            " {'model__max_depth': 100, 'model__max_features': 'sqrt', 'model__min_samples_split': 2, 'model__n_estimators': 200, 'model__n_jobs': -1} \n",
            "\n",
            "\n",
            "\n",
            "\n",
            "Random Forest Regressor best score on test data given the param_grid by GridSearchCV: \n",
            " -7330.247891349211\n"
          ]
        }
      ]
    },
    {
      "cell_type": "markdown",
      "source": [
        "## Tuned hyperparameters and their meaning"
      ],
      "metadata": {
        "id": "I104d5GRarWb"
      }
    },
    {
      "cell_type": "markdown",
      "source": [
        "**Random Forest**\n",
        "\\\n",
        "\\\n",
        "\\\n",
        "\\\n",
        "'model__n_jobs' - - - - - > use all available cpu cores.\n",
        "\\\n",
        "\\\n",
        "\\\n",
        "'model__n_estimators': - - - - - > number of estimators.\n",
        "\\\n",
        "Increasing can yield better results, but it can overfit.\n",
        "\\\n",
        "\\\n",
        "\\\n",
        "'model__min_samples_split':  - - - - - > How many sample required in a leaf to perform a split.\n",
        "\\\n",
        "Decreasing it can result in overfitting.\n",
        "\\\n",
        "\\\n",
        "\\\n",
        "'model__max_depth': - - - - - > Tree depth of model\n",
        "\\\n",
        "Increasing it can lead to overfitting.\n",
        "\\\n",
        "\\\n",
        "\\\n",
        "'model__max_features':  - - - - - > number of features to train base estimators (weak learners).\n",
        "\\\n",
        "Increasing may give better results, but there is a risk of overfitting.\n",
        "\n",
        "\\\n",
        "\\\n",
        "\\\n",
        "\\\n",
        "\\\n",
        "\\\n",
        "**LightGBM**\n",
        "\\\n",
        "\\\n",
        "\\\n",
        "\\\n",
        "'model__learning_rate' - - - - - > learning rate for optimization algorithm.\n",
        "\\\n",
        "Decreasing it can make model slower, but convergence will be guaranteed.\n",
        "\\\n",
        "\\\n",
        "\\\n",
        "'model__n_estimators' - - - - - > number of estimators.\n",
        "\\\n",
        "Increasing can yield better results, but it can overfit.\n",
        "\\\n",
        "\\\n",
        "\\\n",
        "'model__max_depth' - - - - - > max tree depth.\n",
        "\\\n",
        "Increasing it can lead to overfitting.\n",
        "\\\n",
        "\\\n",
        "\\\n",
        "'model__min_child_samples' - - - - - > minimum data points in a leaf for splitting.\n",
        "\\\n",
        "Decreasing it can result in overfitting.\n",
        "\\\n",
        "\\\n",
        "\\\n",
        "'model__subsample' - - - - - > what percent of data to use (between 0 and 1).\n",
        "\\\n",
        "Decreasing it (not too much) can make our model's generalization's better.\n",
        "\\\n",
        "\\\n",
        "\\\n",
        "\\\n",
        "'model__n_jobs' - - - - - > use all available cpu cores."
      ],
      "metadata": {
        "id": "M7-UX2-ZKAro"
      }
    },
    {
      "cell_type": "code",
      "source": [],
      "metadata": {
        "id": "Kf60RBjDKd7W"
      },
      "execution_count": null,
      "outputs": []
    }
  ]
}