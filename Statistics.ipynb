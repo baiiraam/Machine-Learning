{
  "nbformat": 4,
  "nbformat_minor": 0,
  "metadata": {
    "colab": {
      "provenance": [],
      "authorship_tag": "ABX9TyOrZFdQQyw9kypw3z6t8ktg"
    },
    "kernelspec": {
      "name": "python3",
      "display_name": "Python 3"
    },
    "language_info": {
      "name": "python"
    }
  },
  "cells": [
    {
      "cell_type": "markdown",
      "source": [
        "# Statistics"
      ],
      "metadata": {
        "id": "sNc0lkJSGjtx"
      }
    },
    {
      "cell_type": "markdown",
      "source": [
        " All of these problems share a similar setting. You have a classroom full of students (the number may vary) and want to know the probabilities of two students having the same birthday or of any student having a particular birthday, anything along those lines. As mentioned before, you will see 4 variations of the problem.\n",
        "\n",
        " You can think of these problems in two ways:\n",
        "\n",
        " What is the minimum number of students n that need to be in the classroom to have a matching birthday with a given probability?\n",
        "\n",
        " Given n what is the probability of having a match?"
      ],
      "metadata": {
        "id": "rJNo7wNSGxoU"
      }
    },
    {
      "cell_type": "markdown",
      "source": [
        "The first problem tries to answer the question: given a pre-defined date, what is the value of n such that the probability of having a match is greater than or equal to 0.5?"
      ],
      "metadata": {
        "id": "Xaevno_WG99B"
      }
    },
    {
      "cell_type": "code",
      "source": [
        "import numpy as np\n",
        "import matplotlib.pyplot as plt"
      ],
      "metadata": {
        "id": "aIdI4jJHK_sI"
      },
      "execution_count": null,
      "outputs": []
    },
    {
      "cell_type": "code",
      "source": [
        "total = 1\n",
        "days = 365\n",
        "arr = []\n",
        "\n",
        "for i in range(100):\n",
        "  total *= days/365\n",
        "  arr.append(total)\n",
        "  days -= 1\n",
        "\n",
        "print(1-total)"
      ],
      "metadata": {
        "colab": {
          "base_uri": "https://localhost:8080/"
        },
        "id": "1r-5dmWTHL4o",
        "outputId": "f893f119-1f15-4139-e2f9-b0f3def19027"
      },
      "execution_count": null,
      "outputs": [
        {
          "output_type": "stream",
          "name": "stdout",
          "text": [
            "0.9999996927510721\n"
          ]
        }
      ]
    },
    {
      "cell_type": "code",
      "source": [
        "arr = np.array(arr)"
      ],
      "metadata": {
        "id": "OlWuGISKK8NT"
      },
      "execution_count": null,
      "outputs": []
    },
    {
      "cell_type": "code",
      "source": [
        "plt.scatter(np.arange(1, 101), 1-arr)\n",
        "plt.show()"
      ],
      "metadata": {
        "colab": {
          "base_uri": "https://localhost:8080/",
          "height": 430
        },
        "id": "jO_9kYKiLtJm",
        "outputId": "50bf0b38-8b79-4a46-dfa7-34da19653b9c"
      },
      "execution_count": null,
      "outputs": [
        {
          "output_type": "display_data",
          "data": {
            "text/plain": [
              "<Figure size 640x480 with 1 Axes>"
            ],
            "image/png": "[encoded data removed]"
          },
          "metadata": {}
        }
      ]
    },
    {
      "cell_type": "code",
      "source": [
        "np.argmax((1 - arr)>=0.5)"
      ],
      "metadata": {
        "colab": {
          "base_uri": "https://localhost:8080/"
        },
        "id": "RFjcWO5JLtut",
        "outputId": "15191f99-60a2-4453-9291-7d36fea2c731"
      },
      "execution_count": null,
      "outputs": [
        {
          "output_type": "execute_result",
          "data": {
            "text/plain": [
              "22"
            ]
          },
          "metadata": {},
          "execution_count": 20
        }
      ]
    },
    {
      "cell_type": "code",
      "source": [
        "(1 - arr)[22]"
      ],
      "metadata": {
        "colab": {
          "base_uri": "https://localhost:8080/"
        },
        "id": "0DmG6ZHXL56o",
        "outputId": "73956e87-10d5-49aa-c70a-7a5615224f6c"
      },
      "execution_count": null,
      "outputs": [
        {
          "output_type": "execute_result",
          "data": {
            "text/plain": [
              "0.5072972343239857"
            ]
          },
          "metadata": {},
          "execution_count": 23
        }
      ]
    },
    {
      "cell_type": "markdown",
      "source": [
        "The second problem is very similar to the first one, with the difference that the predefined value is not previously defined but it is drawn from one of the students at random so it can be worded like this: given a classroom with n students, if you draw any student at random what is the value of n such that the probability of having a match with another student is greater than or equal to 0.5?"
      ],
      "metadata": {
        "id": "vyu3PvlsL8BM"
      }
    },
    {
      "cell_type": "code",
      "source": [
        "days = 365\n",
        "total = 1\n",
        "arr = []\n",
        "for i in range(100):\n",
        "  total *= (days-1)/365\n",
        "  arr.append(total)\n",
        "  days -= 1\n",
        "\n",
        "arr = np.array(arr)\n",
        "\n",
        "plt.scatter(np.arange(1, 101), (1 - arr))\n",
        "plt.show()\n",
        "\n",
        "print('\\n'*3)\n",
        "\n",
        "print(f'index for (1 - arr:) {np.argmax((1 - arr) >= 0.5)}')\n",
        "print((1 - arr)[np.argmax((1 - arr) >= 0.5)])"
      ],
      "metadata": {
        "colab": {
          "base_uri": "https://localhost:8080/",
          "height": 534
        },
        "id": "217a_JfOMdrt",
        "outputId": "4d2faea4-8474-4d60-e760-1aaa7c6f2083"
      },
      "execution_count": null,
      "outputs": [
        {
          "output_type": "display_data",
          "data": {
            "text/plain": [
              "<Figure size 640x480 with 1 Axes>"
            ],
            "image/png": "[encoded data removed]"
          },
          "metadata": {}
        },
        {
          "output_type": "stream",
          "name": "stdout",
          "text": [
            "\n",
            "\n",
            "\n",
            "\n",
            "index for (1 - arr:) 21\n",
            "0.5072972343239857\n"
          ]
        }
      ]
    },
    {
      "cell_type": "markdown",
      "source": [
        "The third one is the most famous of all the birthday problems and it was covered in the lectures in a sligthly different way.\n",
        "This time you don't want to find a match with a predefined value but rather to find a match between any two birthdays, it can be worded like this: given a classroom with students, what is the value of n such that the probability of having a match is greater than or equal to 0.5 for any two students?Note that, in the lectures, it was calculated the probability that no students share a birthday. Here, you are dealing with the case that, at least two students share a birthday, which is the complement of the question discussed in the lecture"
      ],
      "metadata": {
        "id": "4IwWEEaMN8hw"
      }
    },
    {
      "cell_type": "code",
      "source": [
        "days = 365\n",
        "total = 1\n",
        "arr = []\n",
        "for i in range(100):\n",
        "  total *= (days-1)/365\n",
        "  arr.append(total)\n",
        "  days -= 1\n",
        "\n",
        "arr = np.array(arr)\n",
        "\n",
        "plt.scatter(np.arange(1, 101), (1 - arr))\n",
        "plt.show()\n",
        "\n",
        "print('\\n'*3)\n",
        "\n",
        "print(f'index for (1 - arr:) {np.argmax((1 - arr) >= 0.5)}')\n",
        "print((1 - arr)[np.argmax((1 - arr) >= 0.5)])"
      ],
      "metadata": {
        "colab": {
          "base_uri": "https://localhost:8080/",
          "height": 534
        },
        "id": "DNTU6nhpOJB_",
        "outputId": "3ddd9380-a4f7-4d3e-cc8e-77399e485af6"
      },
      "execution_count": null,
      "outputs": [
        {
          "output_type": "display_data",
          "data": {
            "text/plain": [
              "<Figure size 640x480 with 1 Axes>"
            ],
            "image/png": "[encoded data removed]"
          },
          "metadata": {}
        },
        {
          "output_type": "stream",
          "name": "stdout",
          "text": [
            "\n",
            "\n",
            "\n",
            "\n",
            "index for (1 - arr:) 21\n",
            "0.5072972343239857\n"
          ]
        }
      ]
    },
    {
      "cell_type": "markdown",
      "source": [
        "The fourth and final one is similar to the third problem but with the difference that you have two classrooms and want to find a match between a student in one classroom and a student in the other, presenting it like a question it will be: given two classrooms with n students, what is the value of n such that the probability of having a match is greater than or equal to 0.5 for any two students in each classroom?"
      ],
      "metadata": {
        "id": "Egl9Y-BzOJHY"
      }
    },
    {
      "cell_type": "markdown",
      "source": [
        "I think :"
      ],
      "metadata": {
        "id": "evXV4aYSPiC7"
      }
    },
    {
      "cell_type": "markdown",
      "source": [
        "if the selected students must be from different classrooms, then the answer is 21. Else, 21+21=42."
      ],
      "metadata": {
        "id": "VGgBdkqAOJL1"
      }
    }
  ]
}